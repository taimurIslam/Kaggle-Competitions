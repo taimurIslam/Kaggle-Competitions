{
 "cells": [
  {
   "cell_type": "markdown",
   "metadata": {},
   "source": [
    "#### Import Python Modules"
   ]
  },
  {
   "cell_type": "code",
   "execution_count": 1,
   "metadata": {
    "ExecuteTime": {
     "end_time": "2020-07-24T04:41:39.366609Z",
     "start_time": "2020-07-24T04:40:45.736832Z"
    },
    "code_folding": []
   },
   "outputs": [],
   "source": [
    "# Ignore warnings\n",
    "import warnings\n",
    "warnings.filterwarnings('always')\n",
    "warnings.filterwarnings('ignore')\n",
    "#---------------------------------#\n",
    "# Data and Manipulation\n",
    "import numpy as np\n",
    "import pandas as pd\n",
    "#---------------------------------#\n",
    "# Data Visualization\n",
    "import matplotlib.pyplot as plt\n",
    "from matplotlib import style\n",
    "import seaborn as sns\n",
    "style.use('fivethirtyeight')\n",
    "sns.set(style='whitegrid', color_codes=True)\n",
    "color = sns.color_palette()\n",
    "#---------------------------------#\n",
    "# Regular Expression Module\n",
    "import re\n",
    "#---------------------------------#\n",
    "# Natural Language Processing module\n",
    "import nltk\n",
    "from nltk.corpus import stopwords, wordnet\n",
    "stop_words = set(nltk.corpus.stopwords.words('english'))\n",
    "from nltk import word_tokenize, sent_tokenize\n",
    "from nltk.stem import WordNetLemmatizer\n",
    "from gensim.models import Word2Vec, Phrases\n",
    "import spacy\n",
    "from wordcloud import WordCloud, STOPWORDS\n",
    "#------------------------------------------#\n",
    "# Machine Learning Modules\n",
    "from sklearn.model_selection import train_test_split\n",
    "from sklearn.metrics import accuracy_score, confusion_matrix, f1_score, roc_auc_score, roc_curve\n",
    "from sklearn.feature_extraction.text import CountVectorizer\n",
    "from sklearn.ensemble import RandomForestClassifier\n",
    "import tensorflow as tf\n",
    "from tensorflow.keras.preprocessing.text import one_hot, Tokenizer\n",
    "from tensorflow.keras.preprocessing.sequence import pad_sequences\n",
    "from tensorflow.keras.layers import (Dense, Flatten, Embedding, Input, LSTM, Dropout,\n",
    "                                     Activation, GRU, Bidirectional, GlobalMaxPool1D)\n",
    "from tensorflow.keras.models import Model, Sequential, load_model\n",
    "from tensorflow.keras import initializers, regularizers, constraints, optimizers, layers\n",
    "from tensorflow.keras.backend import set_session\n",
    "config = tf.ConfigProto()\n",
    "config.gpu_options.allow_growth = True\n",
    "sess = tf.Session(config=config)\n",
    "set_session(sess)\n",
    "#---------------------------------#\n",
    "# Other Modules\n",
    "from bs4 import BeautifulSoup\n",
    "import os\n",
    "from importlib import reload\n",
    "import sys\n",
    "if sys.version[0] == '2':\n",
    "    reload(sys)\n",
    "    sys.setdefaultencoding(\"utf-8\")\n",
    "#---------------------------------#"
   ]
  },
  {
   "cell_type": "code",
   "execution_count": 2,
   "metadata": {
    "ExecuteTime": {
     "end_time": "2020-07-24T04:41:39.380562Z",
     "start_time": "2020-07-24T04:41:39.368593Z"
    },
    "code_folding": []
   },
   "outputs": [],
   "source": [
    "# Some Parameter Update For Visualization\n",
    "small_size = 12\n",
    "medium_size = 14\n",
    "big_size = 16\n",
    "large_size = 20\n",
    "\n",
    "params = {\n",
    "    'figure.figsize' : (14, 4),\n",
    "    'font.size' : small_size,\n",
    "    'xtick.labelsize' : medium_size,\n",
    "    'ytick.labelsize' : medium_size,\n",
    "    'legend.fontsize' : big_size ,\n",
    "    'figure.titlesize' : large_size,\n",
    "    'axes.titlesize' : medium_size,\n",
    "    'axes.labelsize' : big_size,  \n",
    "}\n",
    "\n",
    "plt.rcParams.update(params)"
   ]
  },
  {
   "cell_type": "code",
   "execution_count": 3,
   "metadata": {
    "ExecuteTime": {
     "end_time": "2020-07-24T04:41:39.571040Z",
     "start_time": "2020-07-24T04:41:39.382574Z"
    },
    "code_folding": []
   },
   "outputs": [
    {
     "name": "stdout",
     "output_type": "stream",
     "text": [
      "imdb_master.csv\n",
      "labeledTrainData.tsv\n",
      "sampleSubmission.csv\n",
      "testData.tsv\n",
      "unlabeledTrainData.tsv\n"
     ]
    }
   ],
   "source": [
    "# Files check\n",
    "for file in os.listdir('data/'):\n",
    "    print(file)"
   ]
  },
  {
   "cell_type": "code",
   "execution_count": 4,
   "metadata": {
    "ExecuteTime": {
     "end_time": "2020-07-24T04:41:45.388806Z",
     "start_time": "2020-07-24T04:41:39.574011Z"
    },
    "code_folding": []
   },
   "outputs": [
    {
     "name": "stderr",
     "output_type": "stream",
     "text": [
      "b'Skipping line 43043: expected 2 fields, saw 3\\n'\n"
     ]
    }
   ],
   "source": [
    "# Load Data\n",
    "use_cols = ['id','sentiment', 'review']\n",
    "train_data = pd.read_csv(filepath_or_buffer = 'data/labeledTrainData.tsv', usecols = use_cols, sep='\\t', quoting=3)\n",
    "unlabeled_data = pd.read_csv(filepath_or_buffer = 'data/unlabeledTrainData.tsv', sep='\\t', error_bad_lines = False)\n",
    "test_data = pd.read_csv(filepath_or_buffer = 'data/testData.tsv', sep='\\t')\n",
    "imdb_master_data = pd.read_csv(filepath_or_buffer = 'data/imdb_master.csv', encoding='latin-1')"
   ]
  },
  {
   "cell_type": "code",
   "execution_count": 5,
   "metadata": {
    "ExecuteTime": {
     "end_time": "2020-07-24T04:41:45.742446Z",
     "start_time": "2020-07-24T04:41:45.390811Z"
    },
    "code_folding": []
   },
   "outputs": [],
   "source": [
    "# Clean IMDB data\n",
    "imdb_master_data = imdb_master_data.drop(['type','file'], axis=1)\n",
    "imdb_master_data.rename(columns = {'label' : 'sentiment', 'Unnamed: 0':'id'}, inplace=True)\n",
    "imdb_master_data_unsup = imdb_master_data[imdb_master_data['sentiment']=='unsup']\n",
    "imdb_master_data = imdb_master_data[imdb_master_data['sentiment']!='unsup']\n",
    "mapping = {'pos': 1, 'neg':0}\n",
    "imdb_master_data['sentiment'] = imdb_master_data['sentiment'].map(mapping)"
   ]
  },
  {
   "cell_type": "code",
   "execution_count": 6,
   "metadata": {
    "ExecuteTime": {
     "end_time": "2020-07-24T04:41:45.953001Z",
     "start_time": "2020-07-24T04:41:45.744287Z"
    },
    "code_folding": [
     0
    ]
   },
   "outputs": [
    {
     "name": "stdout",
     "output_type": "stream",
     "text": [
      "Train Data\n",
      "<class 'pandas.core.frame.DataFrame'>\n",
      "RangeIndex: 25000 entries, 0 to 24999\n",
      "Data columns (total 3 columns):\n",
      "id           25000 non-null object\n",
      "sentiment    25000 non-null int64\n",
      "review       25000 non-null object\n",
      "dtypes: int64(1), object(2)\n",
      "memory usage: 586.0+ KB\n"
     ]
    },
    {
     "data": {
      "text/html": [
       "<div>\n",
       "<style scoped>\n",
       "    .dataframe tbody tr th:only-of-type {\n",
       "        vertical-align: middle;\n",
       "    }\n",
       "\n",
       "    .dataframe tbody tr th {\n",
       "        vertical-align: top;\n",
       "    }\n",
       "\n",
       "    .dataframe thead th {\n",
       "        text-align: right;\n",
       "    }\n",
       "</style>\n",
       "<table border=\"1\" class=\"dataframe\">\n",
       "  <thead>\n",
       "    <tr style=\"text-align: right;\">\n",
       "      <th></th>\n",
       "      <th>id</th>\n",
       "      <th>sentiment</th>\n",
       "      <th>review</th>\n",
       "    </tr>\n",
       "  </thead>\n",
       "  <tbody>\n",
       "    <tr>\n",
       "      <th>0</th>\n",
       "      <td>\"5814_8\"</td>\n",
       "      <td>1</td>\n",
       "      <td>\"With all this stuff going down at the moment ...</td>\n",
       "    </tr>\n",
       "    <tr>\n",
       "      <th>1</th>\n",
       "      <td>\"2381_9\"</td>\n",
       "      <td>1</td>\n",
       "      <td>\"\\\"The Classic War of the Worlds\\\" by Timothy ...</td>\n",
       "    </tr>\n",
       "    <tr>\n",
       "      <th>2</th>\n",
       "      <td>\"7759_3\"</td>\n",
       "      <td>0</td>\n",
       "      <td>\"The film starts with a manager (Nicholas Bell...</td>\n",
       "    </tr>\n",
       "    <tr>\n",
       "      <th>3</th>\n",
       "      <td>\"3630_4\"</td>\n",
       "      <td>0</td>\n",
       "      <td>\"It must be assumed that those who praised thi...</td>\n",
       "    </tr>\n",
       "    <tr>\n",
       "      <th>4</th>\n",
       "      <td>\"9495_8\"</td>\n",
       "      <td>1</td>\n",
       "      <td>\"Superbly trashy and wondrously unpretentious ...</td>\n",
       "    </tr>\n",
       "  </tbody>\n",
       "</table>\n",
       "</div>"
      ],
      "text/plain": [
       "         id  sentiment                                             review\n",
       "0  \"5814_8\"          1  \"With all this stuff going down at the moment ...\n",
       "1  \"2381_9\"          1  \"\\\"The Classic War of the Worlds\\\" by Timothy ...\n",
       "2  \"7759_3\"          0  \"The film starts with a manager (Nicholas Bell...\n",
       "3  \"3630_4\"          0  \"It must be assumed that those who praised thi...\n",
       "4  \"9495_8\"          1  \"Superbly trashy and wondrously unpretentious ..."
      ]
     },
     "metadata": {},
     "output_type": "display_data"
    },
    {
     "name": "stdout",
     "output_type": "stream",
     "text": [
      "Additional IMDB Data\n",
      "<class 'pandas.core.frame.DataFrame'>\n",
      "Int64Index: 50000 entries, 0 to 49999\n",
      "Data columns (total 3 columns):\n",
      "id           50000 non-null int64\n",
      "review       50000 non-null object\n",
      "sentiment    50000 non-null int64\n",
      "dtypes: int64(2), object(1)\n",
      "memory usage: 1.5+ MB\n"
     ]
    },
    {
     "data": {
      "text/html": [
       "<div>\n",
       "<style scoped>\n",
       "    .dataframe tbody tr th:only-of-type {\n",
       "        vertical-align: middle;\n",
       "    }\n",
       "\n",
       "    .dataframe tbody tr th {\n",
       "        vertical-align: top;\n",
       "    }\n",
       "\n",
       "    .dataframe thead th {\n",
       "        text-align: right;\n",
       "    }\n",
       "</style>\n",
       "<table border=\"1\" class=\"dataframe\">\n",
       "  <thead>\n",
       "    <tr style=\"text-align: right;\">\n",
       "      <th></th>\n",
       "      <th>id</th>\n",
       "      <th>review</th>\n",
       "      <th>sentiment</th>\n",
       "    </tr>\n",
       "  </thead>\n",
       "  <tbody>\n",
       "    <tr>\n",
       "      <th>0</th>\n",
       "      <td>0</td>\n",
       "      <td>Once again Mr. Costner has dragged out a movie...</td>\n",
       "      <td>0</td>\n",
       "    </tr>\n",
       "    <tr>\n",
       "      <th>1</th>\n",
       "      <td>1</td>\n",
       "      <td>This is an example of why the majority of acti...</td>\n",
       "      <td>0</td>\n",
       "    </tr>\n",
       "    <tr>\n",
       "      <th>2</th>\n",
       "      <td>2</td>\n",
       "      <td>First of all I hate those moronic rappers, who...</td>\n",
       "      <td>0</td>\n",
       "    </tr>\n",
       "    <tr>\n",
       "      <th>3</th>\n",
       "      <td>3</td>\n",
       "      <td>Not even the Beatles could write songs everyon...</td>\n",
       "      <td>0</td>\n",
       "    </tr>\n",
       "    <tr>\n",
       "      <th>4</th>\n",
       "      <td>4</td>\n",
       "      <td>Brass pictures (movies is not a fitting word f...</td>\n",
       "      <td>0</td>\n",
       "    </tr>\n",
       "  </tbody>\n",
       "</table>\n",
       "</div>"
      ],
      "text/plain": [
       "   id                                             review  sentiment\n",
       "0   0  Once again Mr. Costner has dragged out a movie...          0\n",
       "1   1  This is an example of why the majority of acti...          0\n",
       "2   2  First of all I hate those moronic rappers, who...          0\n",
       "3   3  Not even the Beatles could write songs everyon...          0\n",
       "4   4  Brass pictures (movies is not a fitting word f...          0"
      ]
     },
     "metadata": {},
     "output_type": "display_data"
    },
    {
     "name": "stdout",
     "output_type": "stream",
     "text": [
      "Test Data\n",
      "<class 'pandas.core.frame.DataFrame'>\n",
      "RangeIndex: 25000 entries, 0 to 24999\n",
      "Data columns (total 2 columns):\n",
      "id        25000 non-null object\n",
      "review    25000 non-null object\n",
      "dtypes: object(2)\n",
      "memory usage: 390.7+ KB\n"
     ]
    },
    {
     "data": {
      "text/html": [
       "<div>\n",
       "<style scoped>\n",
       "    .dataframe tbody tr th:only-of-type {\n",
       "        vertical-align: middle;\n",
       "    }\n",
       "\n",
       "    .dataframe tbody tr th {\n",
       "        vertical-align: top;\n",
       "    }\n",
       "\n",
       "    .dataframe thead th {\n",
       "        text-align: right;\n",
       "    }\n",
       "</style>\n",
       "<table border=\"1\" class=\"dataframe\">\n",
       "  <thead>\n",
       "    <tr style=\"text-align: right;\">\n",
       "      <th></th>\n",
       "      <th>id</th>\n",
       "      <th>review</th>\n",
       "    </tr>\n",
       "  </thead>\n",
       "  <tbody>\n",
       "    <tr>\n",
       "      <th>0</th>\n",
       "      <td>12311_10</td>\n",
       "      <td>Naturally in a film who's main themes are of m...</td>\n",
       "    </tr>\n",
       "    <tr>\n",
       "      <th>1</th>\n",
       "      <td>8348_2</td>\n",
       "      <td>This movie is a disaster within a disaster fil...</td>\n",
       "    </tr>\n",
       "    <tr>\n",
       "      <th>2</th>\n",
       "      <td>5828_4</td>\n",
       "      <td>All in all, this is a movie for kids. We saw i...</td>\n",
       "    </tr>\n",
       "    <tr>\n",
       "      <th>3</th>\n",
       "      <td>7186_2</td>\n",
       "      <td>Afraid of the Dark left me with the impression...</td>\n",
       "    </tr>\n",
       "    <tr>\n",
       "      <th>4</th>\n",
       "      <td>12128_7</td>\n",
       "      <td>A very accurate depiction of small time mob li...</td>\n",
       "    </tr>\n",
       "  </tbody>\n",
       "</table>\n",
       "</div>"
      ],
      "text/plain": [
       "         id                                             review\n",
       "0  12311_10  Naturally in a film who's main themes are of m...\n",
       "1    8348_2  This movie is a disaster within a disaster fil...\n",
       "2    5828_4  All in all, this is a movie for kids. We saw i...\n",
       "3    7186_2  Afraid of the Dark left me with the impression...\n",
       "4   12128_7  A very accurate depiction of small time mob li..."
      ]
     },
     "metadata": {},
     "output_type": "display_data"
    },
    {
     "name": "stdout",
     "output_type": "stream",
     "text": [
      "Unlabeled Train Data\n",
      "<class 'pandas.core.frame.DataFrame'>\n",
      "RangeIndex: 49998 entries, 0 to 49997\n",
      "Data columns (total 2 columns):\n",
      "id        49998 non-null object\n",
      "review    49998 non-null object\n",
      "dtypes: object(2)\n",
      "memory usage: 781.3+ KB\n"
     ]
    },
    {
     "data": {
      "text/html": [
       "<div>\n",
       "<style scoped>\n",
       "    .dataframe tbody tr th:only-of-type {\n",
       "        vertical-align: middle;\n",
       "    }\n",
       "\n",
       "    .dataframe tbody tr th {\n",
       "        vertical-align: top;\n",
       "    }\n",
       "\n",
       "    .dataframe thead th {\n",
       "        text-align: right;\n",
       "    }\n",
       "</style>\n",
       "<table border=\"1\" class=\"dataframe\">\n",
       "  <thead>\n",
       "    <tr style=\"text-align: right;\">\n",
       "      <th></th>\n",
       "      <th>id</th>\n",
       "      <th>review</th>\n",
       "    </tr>\n",
       "  </thead>\n",
       "  <tbody>\n",
       "    <tr>\n",
       "      <th>0</th>\n",
       "      <td>9999_0</td>\n",
       "      <td>Watching Time Chasers, it obvious that it was ...</td>\n",
       "    </tr>\n",
       "    <tr>\n",
       "      <th>1</th>\n",
       "      <td>45057_0</td>\n",
       "      <td>I saw this film about 20 years ago and remembe...</td>\n",
       "    </tr>\n",
       "    <tr>\n",
       "      <th>2</th>\n",
       "      <td>15561_0</td>\n",
       "      <td>Minor Spoilers&lt;br /&gt;&lt;br /&gt;In New York, Joan Ba...</td>\n",
       "    </tr>\n",
       "    <tr>\n",
       "      <th>3</th>\n",
       "      <td>7161_0</td>\n",
       "      <td>I went to see this film with a great deal of e...</td>\n",
       "    </tr>\n",
       "    <tr>\n",
       "      <th>4</th>\n",
       "      <td>43971_0</td>\n",
       "      <td>Yes, I agree with everyone on this site this m...</td>\n",
       "    </tr>\n",
       "  </tbody>\n",
       "</table>\n",
       "</div>"
      ],
      "text/plain": [
       "        id                                             review\n",
       "0   9999_0  Watching Time Chasers, it obvious that it was ...\n",
       "1  45057_0  I saw this film about 20 years ago and remembe...\n",
       "2  15561_0  Minor Spoilers<br /><br />In New York, Joan Ba...\n",
       "3   7161_0  I went to see this film with a great deal of e...\n",
       "4  43971_0  Yes, I agree with everyone on this site this m..."
      ]
     },
     "metadata": {},
     "output_type": "display_data"
    },
    {
     "name": "stdout",
     "output_type": "stream",
     "text": [
      "Additional IMDB Data Unsup\n",
      "<class 'pandas.core.frame.DataFrame'>\n",
      "Int64Index: 50000 entries, 50000 to 99999\n",
      "Data columns (total 3 columns):\n",
      "id           50000 non-null int64\n",
      "review       50000 non-null object\n",
      "sentiment    50000 non-null object\n",
      "dtypes: int64(1), object(2)\n",
      "memory usage: 1.5+ MB\n"
     ]
    },
    {
     "data": {
      "text/html": [
       "<div>\n",
       "<style scoped>\n",
       "    .dataframe tbody tr th:only-of-type {\n",
       "        vertical-align: middle;\n",
       "    }\n",
       "\n",
       "    .dataframe tbody tr th {\n",
       "        vertical-align: top;\n",
       "    }\n",
       "\n",
       "    .dataframe thead th {\n",
       "        text-align: right;\n",
       "    }\n",
       "</style>\n",
       "<table border=\"1\" class=\"dataframe\">\n",
       "  <thead>\n",
       "    <tr style=\"text-align: right;\">\n",
       "      <th></th>\n",
       "      <th>id</th>\n",
       "      <th>review</th>\n",
       "      <th>sentiment</th>\n",
       "    </tr>\n",
       "  </thead>\n",
       "  <tbody>\n",
       "    <tr>\n",
       "      <th>50000</th>\n",
       "      <td>50000</td>\n",
       "      <td>I admit, the great majority of films released ...</td>\n",
       "      <td>unsup</td>\n",
       "    </tr>\n",
       "    <tr>\n",
       "      <th>50001</th>\n",
       "      <td>50001</td>\n",
       "      <td>Take a low budget, inexperienced actors doubli...</td>\n",
       "      <td>unsup</td>\n",
       "    </tr>\n",
       "    <tr>\n",
       "      <th>50002</th>\n",
       "      <td>50002</td>\n",
       "      <td>Everybody has seen 'Back To The Future,' right...</td>\n",
       "      <td>unsup</td>\n",
       "    </tr>\n",
       "    <tr>\n",
       "      <th>50003</th>\n",
       "      <td>50003</td>\n",
       "      <td>Doris Day was an icon of beauty in singing and...</td>\n",
       "      <td>unsup</td>\n",
       "    </tr>\n",
       "    <tr>\n",
       "      <th>50004</th>\n",
       "      <td>50004</td>\n",
       "      <td>After a series of silly, fun-loving movies, 19...</td>\n",
       "      <td>unsup</td>\n",
       "    </tr>\n",
       "  </tbody>\n",
       "</table>\n",
       "</div>"
      ],
      "text/plain": [
       "          id                                             review sentiment\n",
       "50000  50000  I admit, the great majority of films released ...     unsup\n",
       "50001  50001  Take a low budget, inexperienced actors doubli...     unsup\n",
       "50002  50002  Everybody has seen 'Back To The Future,' right...     unsup\n",
       "50003  50003  Doris Day was an icon of beauty in singing and...     unsup\n",
       "50004  50004  After a series of silly, fun-loving movies, 19...     unsup"
      ]
     },
     "metadata": {},
     "output_type": "display_data"
    }
   ],
   "source": [
    "# Information about every dataset \n",
    "datasets = [train_data, imdb_master_data, test_data, unlabeled_data, imdb_master_data_unsup]\n",
    "titles = ['Train Data', 'Additional IMDB Data','Test Data','Unlabeled Train Data', 'Additional IMDB Data Unsup']\n",
    "for dataset, title in zip(datasets, titles):\n",
    "    print(title)\n",
    "    dataset.info()\n",
    "    display(dataset.head())"
   ]
  },
  {
   "cell_type": "code",
   "execution_count": 7,
   "metadata": {
    "ExecuteTime": {
     "end_time": "2020-07-24T04:41:45.977887Z",
     "start_time": "2020-07-24T04:41:45.954949Z"
    },
    "code_folding": []
   },
   "outputs": [],
   "source": [
    "# Join Training data and IMDB data\n",
    "train_data_with_imdb = pd.concat([train_data, imdb_master_data]).reset_index(drop=True)"
   ]
  },
  {
   "cell_type": "code",
   "execution_count": 8,
   "metadata": {
    "ExecuteTime": {
     "end_time": "2020-07-24T04:41:46.089601Z",
     "start_time": "2020-07-24T04:41:45.980880Z"
    },
    "code_folding": [
     0
    ]
   },
   "outputs": [
    {
     "name": "stdout",
     "output_type": "stream",
     "text": [
      "Train Data Shape : (25000, 3)\n",
      "IMDB Data Shape : (50000, 3)\n",
      "IMDB Data Shape Unsup: (50000, 3)\n",
      "Train and imdb combiled Data Shape : (75000, 3)\n"
     ]
    }
   ],
   "source": [
    "# Indivisual Shape Of Train and Imdb Data\n",
    "print('Train Data Shape : '+str(train_data.shape))\n",
    "print('IMDB Data Shape : '+str(imdb_master_data.shape))\n",
    "print('IMDB Data Shape Unsup: '+str(imdb_master_data_unsup.shape))\n",
    "print('Train and imdb combiled Data Shape : '+str(train_data_with_imdb.shape))"
   ]
  },
  {
   "cell_type": "code",
   "execution_count": 9,
   "metadata": {
    "ExecuteTime": {
     "end_time": "2020-07-24T04:41:46.309670Z",
     "start_time": "2020-07-24T04:41:46.092581Z"
    },
    "code_folding": []
   },
   "outputs": [
    {
     "name": "stdout",
     "output_type": "stream",
     "text": [
      "Total number of reviews: 199998\n"
     ]
    }
   ],
   "source": [
    "# Total Number Of Review\n",
    "all_reviews = np.array([], dtype=str)\n",
    "for dataset in datasets:\n",
    "    all_reviews = np.concatenate((all_reviews, dataset.review), axis=0)\n",
    "print('Total number of reviews:', len(all_reviews))"
   ]
  },
  {
   "cell_type": "markdown",
   "metadata": {},
   "source": [
    "#### Exploratory Analysis"
   ]
  },
  {
   "cell_type": "code",
   "execution_count": 10,
   "metadata": {
    "ExecuteTime": {
     "end_time": "2020-07-24T04:41:47.321935Z",
     "start_time": "2020-07-24T04:41:46.310669Z"
    },
    "code_folding": []
   },
   "outputs": [
    {
     "data": {
      "image/png": "[encoded data removed]",
      "text/plain": [
       "<Figure size 1008x288 with 1 Axes>"
      ]
     },
     "metadata": {
      "needs_background": "light"
     },
     "output_type": "display_data"
    }
   ],
   "source": [
    "# Positive Negative Sentiment Ratio Of Training Data\n",
    "plt.hist(train_data[train_data['sentiment']==1].sentiment, bins=2, color=\"green\", label='Positive')\n",
    "plt.hist(train_data[train_data['sentiment']==0].sentiment, bins=2, color=\"Red\", label='Negative')\n",
    "plt.title(\"Class Distribution\", fontsize = large_size)\n",
    "plt.xticks([])\n",
    "plt.xlim(-0.5, 2)\n",
    "plt.legend()\n",
    "plt.show()"
   ]
  },
  {
   "cell_type": "code",
   "execution_count": 11,
   "metadata": {
    "ExecuteTime": {
     "end_time": "2020-07-24T04:41:47.452623Z",
     "start_time": "2020-07-24T04:41:47.324928Z"
    },
    "code_folding": []
   },
   "outputs": [
    {
     "data": {
      "image/png": "[encoded data removed]",
      "text/plain": [
       "<Figure size 1008x288 with 1 Axes>"
      ]
     },
     "metadata": {
      "needs_background": "light"
     },
     "output_type": "display_data"
    }
   ],
   "source": [
    "# Positive Negative Sentiment Ratio Of Combined Data\n",
    "plt.hist(train_data_with_imdb[train_data_with_imdb['sentiment']==1].sentiment, bins=2, color=\"green\", label='Positive')\n",
    "plt.hist(train_data_with_imdb[train_data_with_imdb['sentiment']==0].sentiment, bins=2, color=\"Red\", label='Negative')\n",
    "plt.title(\"Class Distribution\", fontsize = large_size)\n",
    "plt.xticks([])\n",
    "plt.xlim(-0.5, 2)\n",
    "plt.legend()\n",
    "plt.show()"
   ]
  },
  {
   "cell_type": "code",
   "execution_count": 12,
   "metadata": {
    "ExecuteTime": {
     "end_time": "2020-07-24T04:41:47.487492Z",
     "start_time": "2020-07-24T04:41:47.454582Z"
    }
   },
   "outputs": [
    {
     "data": {
      "text/plain": [
       "'\"With all this stuff going down at the moment with MJ i\\'ve started listening to his music, watching the odd documentary here and there, watched The Wiz and watched Moonwalker again. Maybe i just want to get a certain insight into this guy who i thought was really cool in the eighties just to maybe make up my mind whether he is guilty or innocent. Moonwalker is part biography, part feature film which i remember going to see at the cinema when it was originally released. Some of it has subtle messages about MJ\\'s feeling towards the press and also the obvious message of drugs are bad m\\'kay.<br /><br />Visually impressive but of course this is all about Michael Jackson so unless you remotely like MJ in anyway then you are going to hate this and find it boring. Some may call MJ an egotist for consenting to the making of this movie BUT MJ and most of his fans would say that he made it for the fans which if true is really nice of him.<br /><br />The actual feature film bit when it finally starts is only on for 20 minutes or so excluding the Smooth Criminal sequence and Joe Pesci is convincing as a psychopathic all powerful drug lord. Why he wants MJ dead so bad is beyond me. Because MJ overheard his plans? Nah, Joe Pesci\\'s character ranted that he wanted people to know it is he who is supplying drugs etc so i dunno, maybe he just hates MJ\\'s music.<br /><br />Lots of cool things in this like MJ turning into a car and a robot and the whole Speed Demon sequence. Also, the director must have had the patience of a saint when it came to filming the kiddy Bad sequence as usually directors hate working with one kid let alone a whole bunch of them performing a complex dance scene.<br /><br />Bottom line, this movie is for people who like MJ on one level or another (which i think is most people). If not, then stay away. It does try and give off a wholesome message and ironically MJ\\'s bestest buddy in this movie is a girl! Michael Jackson is truly one of the most talented people ever to grace this planet but is he guilty? Well, with all the attention i\\'ve gave this subject....hmmm well i don\\'t know because people can be different behind closed doors, i know this for a fact. He is either an extremely nice but stupid guy or one of the most sickest liars. I hope he is not the latter.\"'"
      ]
     },
     "execution_count": 12,
     "metadata": {},
     "output_type": "execute_result"
    }
   ],
   "source": [
    "train_data['review'][0]"
   ]
  },
  {
   "cell_type": "code",
   "execution_count": 40,
   "metadata": {
    "ExecuteTime": {
     "end_time": "2020-07-24T14:12:37.164803Z",
     "start_time": "2020-07-24T14:12:28.329807Z"
    },
    "code_folding": []
   },
   "outputs": [
    {
     "data": {
      "image/png": "[encoded data removed]",
      "text/plain": [
       "<Figure size 1080x720 with 1 Axes>"
      ]
     },
     "metadata": {
      "needs_background": "light"
     },
     "output_type": "display_data"
    }
   ],
   "source": [
    "# Word Cloud Visualization\n",
    "stopwords = set(STOPWORDS)\n",
    "\n",
    "def show_wordcloud(data, title = 'Word Cloud'):\n",
    "    wordcloud = WordCloud(\n",
    "                background_color='black',\n",
    "                stopwords=stopwords,\n",
    "                max_words=100,\n",
    "                max_font_size=40, \n",
    "                scale=3,\n",
    "                random_state=1).generate(str(data))\n",
    "\n",
    "    fig = plt.figure(1, figsize=(15, 10))\n",
    "    plt.axis('off')\n",
    "    if title: \n",
    "        fig.suptitle(title, fontsize=20)\n",
    "        fig.subplots_adjust(top=2.3)\n",
    "\n",
    "    plt.imshow(wordcloud)\n",
    "    plt.show()\n",
    "\n",
    "show_wordcloud(train_data_with_imdb[\"review\"])"
   ]
  },
  {
   "cell_type": "markdown",
   "metadata": {
    "ExecuteTime": {
     "end_time": "2020-07-21T18:03:20.761038Z",
     "start_time": "2020-07-21T18:03:20.756051Z"
    }
   },
   "source": [
    "#### Data Cleaning and Transformation"
   ]
  },
  {
   "cell_type": "code",
   "execution_count": 14,
   "metadata": {
    "ExecuteTime": {
     "end_time": "2020-07-23T08:34:52.613755Z",
     "start_time": "2020-07-23T08:34:52.597797Z"
    },
    "code_folding": []
   },
   "outputs": [],
   "source": [
    "# ----------------------------------- Function to clean the review ----------------------------\n",
    "# Remove HTML/XML Tags and get plain text\n",
    "def markup_to_text(text_with_markup_tag):\n",
    "    text_without_markup_tag = BeautifulSoup(text_with_markup_tag, features = \"lxml\").get_text()\n",
    "    \n",
    "    if len(text_without_markup_tag) == 0 :\n",
    "        text_without_markup_tag = text_with_markup_tag\n",
    "    \n",
    "    text_without_markup_tag = re.sub(r\"\\<.*\\>\", \"\", text_without_markup_tag)\n",
    "    \n",
    "    try :\n",
    "        text_without_markup_tag = text_without_markup_tag.encode(encoding = 'ascii', errors = 'ignore')\\\n",
    "                                   .decode(encoding = 'ascii')\n",
    "    except UnicodeDecodeError:\n",
    "        text_without_markup_tag = text_without_markup_tag.encode(encoding = 'ascii', errors = 'ignore')\n",
    "    \n",
    "    return text_without_markup_tag \n",
    "\n",
    "# Output string with only letters\n",
    "def only_letter(text) :\n",
    "    return re.sub('[^a-zA-Z]', ' ', text)\n",
    "\n",
    "# Output Only lower Case Letter\n",
    "def lower_case(text) :\n",
    "    return text.lower()\n",
    "\n",
    "# Remove Stop Words\n",
    "def remove_stop_word(text):\n",
    "    words = text.split()\n",
    "    meaningful_word = [w for w in words if not w in stop_words]\n",
    "    return (\" \".join(meaningful_word))\n",
    "\n",
    "# Word Parts Of Speech\n",
    "def get_wordnet_pos(word):\n",
    "    \"\"\"Map POS tag to first character lemmatize() accepts\"\"\"\n",
    "    tag = nltk.pos_tag([word])[0][1][0].upper()\n",
    "    \n",
    "    tag_dict = {\"J\": wordnet.ADJ,\n",
    "                \"N\": wordnet.NOUN,\n",
    "                \"V\": wordnet.VERB,\n",
    "                \"R\": wordnet.ADV}\n",
    "\n",
    "    return tag_dict.get(tag, wordnet.NOUN)\n",
    "\n",
    "# Word Lemmatization\n",
    "def word_lemmatization(text, show_progress : bool = True):\n",
    "    if show_progress:\n",
    "        global counter\n",
    "        counter += 1\n",
    "        if counter%1000 == 0 :\n",
    "            print('Processing ... %d\\n'%(counter), end='\\r')\n",
    "    lemmatizer = WordNetLemmatizer()\n",
    "    words = word_tokenize(text)\n",
    "    lemmatization_output = ' '.join([lemmatizer.lemmatize(word, get_wordnet_pos(word)) for word in words])\n",
    "    return lemmatization_output"
   ]
  },
  {
   "cell_type": "code",
   "execution_count": 44,
   "metadata": {
    "ExecuteTime": {
     "end_time": "2020-07-18T14:23:14.220877Z",
     "start_time": "2020-07-18T14:23:14.215908Z"
    },
    "code_folding": [
     0
    ]
   },
   "outputs": [
    {
     "name": "stdout",
     "output_type": "stream",
     "text": [
      "Copy Finish\n",
      "Removing HTML/XML Tag Finish\n",
      "Considering only letters Finish\n",
      "Upper case to lower case conversion Finish\n",
      "Removing stop words Finish\n",
      "Word lemmatization Finish\n"
     ]
    }
   ],
   "source": [
    "%%time\n",
    "# Clean Training Data\n",
    "clean_train_data = train_data.copy()\n",
    "print(\"Copy Finish\")\n",
    "clean_train_data['review'] = clean_train_data['review'].apply(markup_to_text)\n",
    "print(\"Removing HTML/XML Tag Finish\")\n",
    "clean_train_data['review'] = clean_train_data['review'].apply(only_letter)\n",
    "print(\"Considering only letters Finish\")\n",
    "clean_train_data['review'] = clean_train_data['review'].apply(lower_case)\n",
    "print(\"Upper case to lower case conversion Finish\")\n",
    "clean_train_data['review'] = clean_train_data['review'].apply(remove_stop_word)\n",
    "print(\"Removing stop words Finish\")\n",
    "\n",
    "counter = 0\n",
    "clean_train_data['review'] = clean_train_data['review'].apply(word_lemmatization)\n",
    "print(\"Word lemmatization Finish\")\n",
    "\n",
    "clean_train_data.to_csv('clean_train_data.csv', index=None)"
   ]
  },
  {
   "cell_type": "code",
   "execution_count": 48,
   "metadata": {
    "ExecuteTime": {
     "end_time": "2020-07-18T14:57:50.078617Z",
     "start_time": "2020-07-18T14:29:11.368837Z"
    },
    "code_folding": [
     0
    ]
   },
   "outputs": [
    {
     "name": "stdout",
     "output_type": "stream",
     "text": [
      "Copy Finish\n",
      "Removing HTML/XML Tag Finish\n",
      "Considering only letters Finish\n",
      "Upper case to lower case conversion Finish\n",
      "Removing stop words Finish\n",
      "Word lemmatization Finish\n",
      "Wall time: 28min 38s\n"
     ]
    }
   ],
   "source": [
    "%%time\n",
    "# Clean Test Data\n",
    "clean_test_data = test_data.copy()\n",
    "print(\"Copy Finish\")\n",
    "clean_test_data['review'] = clean_test_data['review'].apply(markup_to_text)\n",
    "print(\"Removing HTML/XML Tag Finish\")\n",
    "clean_test_data['review'] = clean_test_data['review'].apply(only_letter)\n",
    "print(\"Considering only letters Finish\")\n",
    "clean_test_data['review'] = clean_test_data['review'].apply(lower_case)\n",
    "print(\"Upper case to lower case conversion Finish\")\n",
    "clean_test_data['review'] = clean_test_data['review'].apply(remove_stop_word)\n",
    "print(\"Removing stop words Finish\")\n",
    "\n",
    "counter = 0\n",
    "clean_test_data['review'] = clean_test_data['review'].apply(word_lemmatization)\n",
    "print(\"Word lemmatization Finish\")\n",
    "\n",
    "clean_test_data.to_csv('clean_test_data.csv', index=None)"
   ]
  },
  {
   "cell_type": "code",
   "execution_count": 16,
   "metadata": {
    "ExecuteTime": {
     "end_time": "2020-07-19T05:13:34.096238Z",
     "start_time": "2020-07-19T03:50:47.924097Z"
    },
    "code_folding": [],
    "scrolled": true
   },
   "outputs": [
    {
     "name": "stdout",
     "output_type": "stream",
     "text": [
      "Copy Finish\n",
      "Removing HTML/XML Tag Finish\n",
      "Considering only letters Finish\n",
      "Upper case to lower case conversion Finish\n",
      "Removing stop words Finish\n",
      "Processing ... 1000\n",
      "Processing ... 2000\n",
      "Processing ... 3000\n",
      "Processing ... 4000\n",
      "Processing ... 5000\n",
      "Processing ... 6000\n",
      "Processing ... 7000\n",
      "Processing ... 8000\n",
      "Processing ... 9000\n",
      "Processing ... 10000\n",
      "Processing ... 11000\n",
      "Processing ... 12000\n",
      "Processing ... 13000\n",
      "Processing ... 14000\n",
      "Processing ... 15000\n",
      "Processing ... 16000\n",
      "Processing ... 17000\n",
      "Processing ... 18000\n",
      "Processing ... 19000\n",
      "Processing ... 20000\n",
      "Processing ... 21000\n",
      "Processing ... 22000\n",
      "Processing ... 23000\n",
      "Processing ... 24000\n",
      "Processing ... 25000\n",
      "Processing ... 26000\n",
      "Processing ... 27000\n",
      "Processing ... 28000\n",
      "Processing ... 29000\n",
      "Processing ... 30000\n",
      "Processing ... 31000\n",
      "Processing ... 32000\n",
      "Processing ... 33000\n",
      "Processing ... 34000\n",
      "Processing ... 35000\n",
      "Processing ... 36000\n",
      "Processing ... 37000\n",
      "Processing ... 38000\n",
      "Processing ... 39000\n",
      "Processing ... 40000\n",
      "Processing ... 41000\n",
      "Processing ... 42000\n",
      "Processing ... 43000\n",
      "Processing ... 44000\n",
      "Processing ... 45000\n",
      "Processing ... 46000\n",
      "Processing ... 47000\n",
      "Processing ... 48000\n",
      "Processing ... 49000\n",
      "Processing ... 50000\n",
      "Processing ... 51000\n",
      "Processing ... 52000\n",
      "Processing ... 53000\n",
      "Processing ... 54000\n",
      "Processing ... 55000\n",
      "Processing ... 56000\n",
      "Processing ... 57000\n",
      "Processing ... 58000\n",
      "Processing ... 59000\n",
      "Processing ... 60000\n",
      "Processing ... 61000\n",
      "Processing ... 62000\n",
      "Processing ... 63000\n",
      "Processing ... 64000\n",
      "Processing ... 65000\n",
      "Processing ... 66000\n",
      "Processing ... 67000\n",
      "Processing ... 68000\n",
      "Processing ... 69000\n",
      "Processing ... 70000\n",
      "Processing ... 71000\n",
      "Processing ... 72000\n",
      "Processing ... 73000\n",
      "Processing ... 74000\n",
      "Processing ... 75000\n",
      "Word lemmatization Finish\n",
      "Wall time: 1h 22min 46s\n"
     ]
    }
   ],
   "source": [
    "%%time\n",
    "# Clean Training Data\n",
    "clean_train_data_with_imdb = train_data_with_imdb.copy()\n",
    "print(\"Copy Finish\")\n",
    "clean_train_data_with_imdb['review'] = clean_train_data_with_imdb['review'].apply(markup_to_text)\n",
    "print(\"Removing HTML/XML Tag Finish\")\n",
    "clean_train_data_with_imdb['review'] = clean_train_data_with_imdb['review'].apply(only_letter)\n",
    "print(\"Considering only letters Finish\")\n",
    "clean_train_data_with_imdb['review'] = clean_train_data_with_imdb['review'].apply(lower_case)\n",
    "print(\"Upper case to lower case conversion Finish\")\n",
    "clean_train_data_with_imdb['review'] = clean_train_data_with_imdb['review'].apply(remove_stop_word)\n",
    "print(\"Removing stop words Finish\")\n",
    "counter = 0\n",
    "clean_train_data_with_imdb['review'] = clean_train_data_with_imdb['review'].apply(word_lemmatization)\n",
    "print(\"Word lemmatization Finish\")\n",
    "\n",
    "clean_train_data_with_imdb.to_csv('clean_train_data_with_imdb.csv', index=None)"
   ]
  },
  {
   "cell_type": "code",
   "execution_count": 34,
   "metadata": {
    "ExecuteTime": {
     "end_time": "2020-07-22T11:04:54.401615Z",
     "start_time": "2020-07-22T11:04:42.644020Z"
    },
    "code_folding": [
     0
    ]
   },
   "outputs": [],
   "source": [
    "%%time\n",
    "# Clean Training Data\n",
    "clean_imdb_master_data_unsup = imdb_master_data_unsup.copy()\n",
    "print(\"Copy Finish\")\n",
    "clean_imdb_master_data_unsup['review'] = clean_imdb_master_data_unsup['review'].apply(markup_to_text)\n",
    "print(\"Removing HTML/XML Tag Finish\")\n",
    "clean_imdb_master_data_unsup['review'] = clean_imdb_master_data_unsup['review'].apply(only_letter)\n",
    "print(\"Considering only letters Finish\")\n",
    "clean_imdb_master_data_unsup['review'] = clean_imdb_master_data_unsup['review'].apply(lower_case)\n",
    "print(\"Upper case to lower case conversion Finish\")\n",
    "clean_imdb_master_data_unsup['review'] = clean_imdb_master_data_unsup['review'].apply(remove_stop_word)\n",
    "print(\"Removing stop words Finish\")\n",
    "counter = 0\n",
    "clean_imdb_master_data_unsup['review'] = clean_imdb_master_data_unsup['review'].apply(word_lemmatization)\n",
    "print(\"Word lemmatization Finish\")\n",
    "\n",
    "clean_imdb_master_data_unsup.to_csv('clean_imdb_master_data_unsup.csv', index=None)"
   ]
  },
  {
   "cell_type": "markdown",
   "metadata": {},
   "source": [
    "#### Load Clean and Transformed Data"
   ]
  },
  {
   "cell_type": "code",
   "execution_count": 14,
   "metadata": {
    "ExecuteTime": {
     "end_time": "2020-07-24T04:41:52.840837Z",
     "start_time": "2020-07-24T04:41:48.745275Z"
    },
    "code_folding": []
   },
   "outputs": [],
   "source": [
    "# Load Clean and Transformed Data\n",
    "clean_test_data = pd.read_csv('clean_test_data.csv')\n",
    "clean_train_data_with_imdb = pd.read_csv('clean_train_data_with_imdb.csv')\n",
    "clean_imdb_master_data_unsup = pd.read_csv('clean_imdb_master_data_unsup.csv')"
   ]
  },
  {
   "cell_type": "code",
   "execution_count": 16,
   "metadata": {
    "ExecuteTime": {
     "end_time": "2020-07-23T08:34:56.647807Z",
     "start_time": "2020-07-23T08:34:56.637867Z"
    }
   },
   "outputs": [
    {
     "data": {
      "text/html": [
       "<div>\n",
       "<style scoped>\n",
       "    .dataframe tbody tr th:only-of-type {\n",
       "        vertical-align: middle;\n",
       "    }\n",
       "\n",
       "    .dataframe tbody tr th {\n",
       "        vertical-align: top;\n",
       "    }\n",
       "\n",
       "    .dataframe thead th {\n",
       "        text-align: right;\n",
       "    }\n",
       "</style>\n",
       "<table border=\"1\" class=\"dataframe\">\n",
       "  <thead>\n",
       "    <tr style=\"text-align: right;\">\n",
       "      <th></th>\n",
       "      <th>id</th>\n",
       "      <th>review</th>\n",
       "      <th>sentiment</th>\n",
       "    </tr>\n",
       "  </thead>\n",
       "  <tbody>\n",
       "    <tr>\n",
       "      <th>0</th>\n",
       "      <td>\"5814_8\"</td>\n",
       "      <td>stuff go moment mj start listen music watch od...</td>\n",
       "      <td>1</td>\n",
       "    </tr>\n",
       "    <tr>\n",
       "      <th>1</th>\n",
       "      <td>\"2381_9\"</td>\n",
       "      <td>classic war world timothy hines entertain film...</td>\n",
       "      <td>1</td>\n",
       "    </tr>\n",
       "    <tr>\n",
       "      <th>2</th>\n",
       "      <td>\"7759_3\"</td>\n",
       "      <td>film start manager nicholas bell give welcome ...</td>\n",
       "      <td>0</td>\n",
       "    </tr>\n",
       "    <tr>\n",
       "      <th>3</th>\n",
       "      <td>\"3630_4\"</td>\n",
       "      <td>must assume praise film great film opera ever ...</td>\n",
       "      <td>0</td>\n",
       "    </tr>\n",
       "    <tr>\n",
       "      <th>4</th>\n",
       "      <td>\"9495_8\"</td>\n",
       "      <td>superbly trashy wondrously unpretentious explo...</td>\n",
       "      <td>1</td>\n",
       "    </tr>\n",
       "  </tbody>\n",
       "</table>\n",
       "</div>"
      ],
      "text/plain": [
       "         id                                             review  sentiment\n",
       "0  \"5814_8\"  stuff go moment mj start listen music watch od...          1\n",
       "1  \"2381_9\"  classic war world timothy hines entertain film...          1\n",
       "2  \"7759_3\"  film start manager nicholas bell give welcome ...          0\n",
       "3  \"3630_4\"  must assume praise film great film opera ever ...          0\n",
       "4  \"9495_8\"  superbly trashy wondrously unpretentious explo...          1"
      ]
     },
     "execution_count": 16,
     "metadata": {},
     "output_type": "execute_result"
    }
   ],
   "source": [
    "clean_train_data_with_imdb.head()"
   ]
  },
  {
   "cell_type": "code",
   "execution_count": 42,
   "metadata": {
    "ExecuteTime": {
     "end_time": "2020-07-24T15:34:29.589051Z",
     "start_time": "2020-07-24T15:34:29.528130Z"
    },
    "code_folding": []
   },
   "outputs": [
    {
     "data": {
      "text/plain": [
       "(id           0\n",
       " review       0\n",
       " sentiment    0\n",
       " dtype: int64, id           0\n",
       " review       0\n",
       " sentiment    0\n",
       " dtype: int64)"
      ]
     },
     "execution_count": 42,
     "metadata": {},
     "output_type": "execute_result"
    }
   ],
   "source": [
    "# checking null value in the data of train and test\n",
    "clean_train_data_with_imdb.isnull().sum(), test_data.isnull().sum()"
   ]
  },
  {
   "cell_type": "markdown",
   "metadata": {},
   "source": [
    "#### Word Ebmadding Technique"
   ]
  },
  {
   "cell_type": "code",
   "execution_count": 43,
   "metadata": {
    "ExecuteTime": {
     "end_time": "2020-07-24T15:40:54.248380Z",
     "start_time": "2020-07-24T15:40:28.117736Z"
    },
    "code_folding": []
   },
   "outputs": [],
   "source": [
    "## Word One-Hot Encoding\n",
    "max_features_number = 10000\n",
    "tokenizer = Tokenizer(num_words = max_features_number)\n",
    "tokenizer.fit_on_texts(clean_train_data_with_imdb['review'])\n",
    "list_of_tokenized_train_data = tokenizer.texts_to_sequences(clean_train_data_with_imdb['review'])\n",
    "# Padding\n",
    "max_len = int(clean_train_data_with_imdb['review'].apply(lambda x : len(x.split(\" \"))).mean())\n",
    "X = pad_sequences(list_of_tokenized_train_data, maxlen = max_len)\n",
    "y = clean_train_data_with_imdb['sentiment']"
   ]
  },
  {
   "cell_type": "code",
   "execution_count": 44,
   "metadata": {
    "ExecuteTime": {
     "end_time": "2020-07-24T15:40:56.368802Z",
     "start_time": "2020-07-24T15:40:54.260432Z"
    },
    "code_folding": []
   },
   "outputs": [
    {
     "data": {
      "image/png": "[encoded data removed]",
      "text/plain": [
       "<Figure size 1008x288 with 1 Axes>"
      ]
     },
     "metadata": {
      "needs_background": "light"
     },
     "output_type": "display_data"
    }
   ],
   "source": [
    "# Distribution Of Word per Comment\n",
    "totalNumWords = [len(one_comment) for one_comment in list_of_tokenized_train_data]\n",
    "plt.hist(totalNumWords,bins = np.arange(0,410,10))#[0,50,100,150,200,250,300,350,400])#,450,500,550,600,650,700,750,800,850,900])\n",
    "plt.xlabel(\"Distribution of comment\")\n",
    "plt.ylabel(\"Number of comments\")\n",
    "plt.title(\"Number of comments vs Number of words distribution \")\n",
    "plt.show()"
   ]
  },
  {
   "cell_type": "code",
   "execution_count": 45,
   "metadata": {
    "ExecuteTime": {
     "end_time": "2020-07-24T15:40:57.494601Z",
     "start_time": "2020-07-24T15:40:56.371762Z"
    },
    "code_folding": []
   },
   "outputs": [],
   "source": [
    "# Train Test Spelit\n",
    "X_train, X_test, y_train, y_test = train_test_split(X, y, test_size=0.20, random_state=42)"
   ]
  },
  {
   "cell_type": "code",
   "execution_count": 46,
   "metadata": {
    "ExecuteTime": {
     "end_time": "2020-07-24T16:07:21.463233Z",
     "start_time": "2020-07-24T15:40:57.498596Z"
    },
    "code_folding": []
   },
   "outputs": [
    {
     "name": "stdout",
     "output_type": "stream",
     "text": [
      "Train on 48000 samples, validate on 12000 samples\n",
      "WARNING:tensorflow:From C:\\Users\\taimu\\Anaconda3\\lib\\site-packages\\tensorflow\\python\\ops\\math_grad.py:102: div (from tensorflow.python.ops.math_ops) is deprecated and will be removed in a future version.\n",
      "Instructions for updating:\n",
      "Deprecated in favor of operator or tf.math.divide.\n",
      "Epoch 1/3\n",
      "48000/48000 [==============================] - 407s 8ms/sample - loss: 0.3148 - acc: 0.8655 - val_loss: 0.2504 - val_acc: 0.8979\n",
      "Epoch 2/3\n",
      "48000/48000 [==============================] - 375s 8ms/sample - loss: 0.1784 - acc: 0.9351 - val_loss: 0.2373 - val_acc: 0.9105\n",
      "Epoch 3/3\n",
      "48000/48000 [==============================] - 392s 8ms/sample - loss: 0.1098 - acc: 0.9620 - val_loss: 0.2537 - val_acc: 0.9133\n"
     ]
    }
   ],
   "source": [
    "# Model Layers 1. Embedding 2. Bidirectional 3. GlobalMaxPool 4. Dense 5. Dropout\n",
    "embed_size = max_len\n",
    "model = Sequential()\n",
    "model.add(Embedding(max_features_number, embed_size))\n",
    "model.add(Bidirectional(LSTM(32, return_sequences = True)))\n",
    "model.add(GlobalMaxPool1D())\n",
    "model.add(Dense(20, activation = \"relu\"))\n",
    "model.add(Dropout(0.05))\n",
    "model.add(Dense(1, activation = \"sigmoid\"))\n",
    "\n",
    "# Model Run\n",
    "model.compile(loss = \"binary_crossentropy\", optimizer = \"adam\", metrics=[\"accuracy\"])\n",
    "batch_size = 50\n",
    "epochs = 3\n",
    "history = model.fit(X_train, y_train, batch_size = batch_size, epochs = epochs, validation_split=0.2)"
   ]
  },
  {
   "cell_type": "code",
   "execution_count": 47,
   "metadata": {
    "ExecuteTime": {
     "end_time": "2020-07-24T16:08:06.078317Z",
     "start_time": "2020-07-24T16:07:21.613560Z"
    },
    "code_folding": []
   },
   "outputs": [
    {
     "name": "stdout",
     "output_type": "stream",
     "text": [
      "F1 Score 0.9144086599878974\n",
      "\n",
      "AUC Score : 0.9151376225491656\n"
     ]
    }
   ],
   "source": [
    "# Check Accuracy using 20% test data seperated from training data\n",
    "prediction = model.predict(X_test)\n",
    "y_pred = (prediction > 0.5)\n",
    "print('F1 Score {0}'.format(f1_score(y_pred, y_test)))\n",
    "print('\\nAUC Score : '+ str(roc_auc_score(y_test, y_pred)))"
   ]
  },
  {
   "cell_type": "code",
   "execution_count": 48,
   "metadata": {
    "ExecuteTime": {
     "end_time": "2020-07-24T16:08:06.620678Z",
     "start_time": "2020-07-24T16:08:06.080312Z"
    },
    "code_folding": []
   },
   "outputs": [],
   "source": [
    "# Plot Confusion Matrix Function\n",
    "def plot_confusion_matrix(y_true, y_pred, ax, class_names, vmax=None,\n",
    "                          normed=True, title='Confusion matrix'):\n",
    "    matrix = confusion_matrix(y_true,y_pred)\n",
    "    if normed:\n",
    "        matrix = (matrix.astype('float') / matrix.sum(axis=1)[:, np.newaxis])\n",
    "    sns.heatmap(matrix, vmax=vmax, annot=True, square=True, ax=ax,\n",
    "               cmap=plt.cm.Blues_r, cbar=False, linecolor='black',\n",
    "               linewidths=1, xticklabels=class_names)\n",
    "    ax.set_title(title, y=1.20, fontsize=16)\n",
    "    ax.set_ylabel('True labels', fontsize=12)\n",
    "    ax.set_xlabel('Predicted labels', y=1.10, fontsize=12)\n",
    "    ax.set_yticklabels(class_names, rotation=0)"
   ]
  },
  {
   "cell_type": "code",
   "execution_count": 50,
   "metadata": {
    "ExecuteTime": {
     "end_time": "2020-07-24T16:11:47.419146Z",
     "start_time": "2020-07-24T16:08:43.471515Z"
    },
    "code_folding": []
   },
   "outputs": [
    {
     "data": {
      "image/png": "[encoded data removed]",
      "text/plain": [
       "<Figure size 1008x288 with 2 Axes>"
      ]
     },
     "metadata": {
      "needs_background": "light"
     },
     "output_type": "display_data"
    }
   ],
   "source": [
    "# Confusion Matrix\n",
    "y_train_pred = model.predict_classes(X_train)\n",
    "y_test_pred = model.predict_classes(X_test)\n",
    "\n",
    "fig, (axis1, axis2) = plt.subplots(nrows=1, ncols=2)\n",
    "plot_confusion_matrix(y_train, y_train_pred, ax=axis1,\n",
    "                      title='Confusion matrix (Train Data)',\n",
    "                      class_names=['Positive', 'Negative'])\n",
    "plot_confusion_matrix(y_test, y_test_pred, ax=axis2,\n",
    "                      title='Confusion matrix (Test Data)',\n",
    "                      class_names=['Positive', 'Negative'])"
   ]
  },
  {
   "cell_type": "code",
   "execution_count": 51,
   "metadata": {
    "ExecuteTime": {
     "end_time": "2020-07-24T16:11:48.289792Z",
     "start_time": "2020-07-24T16:11:47.422112Z"
    },
    "code_folding": []
   },
   "outputs": [
    {
     "data": {
      "image/png": "[encoded data removed]",
      "text/plain": [
       "<Figure size 1152x432 with 2 Axes>"
      ]
     },
     "metadata": {
      "needs_background": "light"
     },
     "output_type": "display_data"
    }
   ],
   "source": [
    "# Visualize Model Accuracy and Loss \n",
    "fig, (axis1, axis2) = plt.subplots(nrows=1, ncols=2, figsize=(16,6))\n",
    "\n",
    "# summarize history for accuracy\n",
    "axis1.plot(history.history['acc'], label='Train', linewidth=3)\n",
    "axis1.plot(history.history['val_acc'], label='Validation', linewidth=3)\n",
    "axis1.set_title('Model accuracy', fontsize=16)\n",
    "axis1.set_ylabel('accuracy')\n",
    "axis1.set_xlabel('epoch')\n",
    "axis1.legend(loc='upper left')\n",
    "\n",
    "# summarize history for loss\n",
    "axis2.plot(history.history['loss'], label='Train', linewidth=3)\n",
    "axis2.plot(history.history['val_loss'], label='Validation', linewidth=3)\n",
    "axis2.set_title('Model loss', fontsize=16)\n",
    "axis2.set_ylabel('loss')\n",
    "axis2.set_xlabel('epoch')\n",
    "axis2.legend(loc='upper right')\n",
    "plt.show()"
   ]
  },
  {
   "cell_type": "code",
   "execution_count": 52,
   "metadata": {
    "ExecuteTime": {
     "end_time": "2020-07-24T16:12:21.084950Z",
     "start_time": "2020-07-24T16:11:48.292784Z"
    },
    "code_folding": []
   },
   "outputs": [],
   "source": [
    "# Original Test Data Transformation\n",
    "tokenizer.fit_on_texts(test_data['review'])\n",
    "list_of_tokenized_test_data = tokenizer.texts_to_sequences(test_data['review'])\n",
    "# Padding\n",
    "X_test_original = pad_sequences(list_of_tokenized_test_data, maxlen= max_len)"
   ]
  },
  {
   "cell_type": "code",
   "execution_count": 53,
   "metadata": {
    "ExecuteTime": {
     "end_time": "2020-07-24T16:13:26.666563Z",
     "start_time": "2020-07-24T16:12:21.087945Z"
    },
    "code_folding": []
   },
   "outputs": [
    {
     "name": "stdout",
     "output_type": "stream",
     "text": [
      "[[0]\n",
      " [0]\n",
      " [0]\n",
      " ...\n",
      " [0]\n",
      " [0]\n",
      " [1]]\n"
     ]
    }
   ],
   "source": [
    "# Original Test Data Prediction\n",
    "test_prediction = model.predict_classes(X_test_original)\n",
    "#y_test_original = (test_prediction > 0.5)\n",
    "print(test_prediction)"
   ]
  },
  {
   "cell_type": "code",
   "execution_count": 54,
   "metadata": {
    "ExecuteTime": {
     "end_time": "2020-07-24T16:14:23.334221Z",
     "start_time": "2020-07-24T16:14:22.550947Z"
    }
   },
   "outputs": [],
   "source": [
    "def submit(predictions):\n",
    "    test_data['sentiment'] = predictions\n",
    "    test_data.to_csv('submission_embedding.csv', index=False, columns=['id','sentiment'])\n",
    "\n",
    "submit(test_prediction)"
   ]
  },
  {
   "cell_type": "markdown",
   "metadata": {},
   "source": [
    "#### nGram Technique"
   ]
  },
  {
   "cell_type": "code",
   "execution_count": 16,
   "metadata": {
    "ExecuteTime": {
     "end_time": "2020-07-24T04:41:56.177047Z",
     "start_time": "2020-07-24T04:41:52.883209Z"
    },
    "code_folding": []
   },
   "outputs": [],
   "source": [
    "#Array Of Word Per Review\n",
    "clean_train_data_with_imdb_test_and_unsup = pd.concat([clean_train_data_with_imdb[['id','review']],\\\n",
    "                                                       imdb_master_data_unsup[['id','review']], \\\n",
    "                                                       test_data]).reset_index(drop=True)\n",
    "all_reviews = clean_train_data_with_imdb_test_and_unsup['review'].apply(lambda x : x.split(' ')).to_numpy()"
   ]
  },
  {
   "cell_type": "code",
   "execution_count": 17,
   "metadata": {
    "ExecuteTime": {
     "end_time": "2020-07-24T04:41:56.188020Z",
     "start_time": "2020-07-24T04:41:56.179043Z"
    }
   },
   "outputs": [
    {
     "data": {
      "text/plain": [
       "(150000, 2)"
      ]
     },
     "execution_count": 17,
     "metadata": {},
     "output_type": "execute_result"
    }
   ],
   "source": [
    "clean_train_data_with_imdb_test_and_unsup.shape"
   ]
  },
  {
   "cell_type": "code",
   "execution_count": 18,
   "metadata": {
    "ExecuteTime": {
     "end_time": "2020-07-24T04:42:52.536079Z",
     "start_time": "2020-07-24T04:41:56.190016Z"
    },
    "code_folding": []
   },
   "outputs": [
    {
     "name": "stdout",
     "output_type": "stream",
     "text": [
      "Wall time: 56.1 s\n"
     ]
    }
   ],
   "source": [
    "%%time\n",
    "# Bigrams\n",
    "bigrams = Phrases(sentences = all_reviews)"
   ]
  },
  {
   "cell_type": "code",
   "execution_count": 19,
   "metadata": {
    "ExecuteTime": {
     "end_time": "2020-07-24T04:42:52.545035Z",
     "start_time": "2020-07-24T04:42:52.539073Z"
    },
    "code_folding": []
   },
   "outputs": [
    {
     "data": {
      "text/plain": [
       "['space_station', 'near', 'the', 'solar_system']"
      ]
     },
     "execution_count": 19,
     "metadata": {},
     "output_type": "execute_result"
    }
   ],
   "source": [
    "# Check bigram result\n",
    "bigrams['space station near the solar system'.split(' ')]"
   ]
  },
  {
   "cell_type": "code",
   "execution_count": 20,
   "metadata": {
    "ExecuteTime": {
     "end_time": "2020-07-24T04:45:33.576660Z",
     "start_time": "2020-07-24T04:42:52.548023Z"
    },
    "code_folding": []
   },
   "outputs": [
    {
     "name": "stdout",
     "output_type": "stream",
     "text": [
      "Wall time: 2min 40s\n"
     ]
    }
   ],
   "source": [
    "%%time\n",
    "#Trigrams\n",
    "trigrams = Phrases(sentences = bigrams[all_reviews])"
   ]
  },
  {
   "cell_type": "markdown",
   "metadata": {},
   "source": [
    "#### Word2Vec Technique"
   ]
  },
  {
   "cell_type": "code",
   "execution_count": 21,
   "metadata": {
    "ExecuteTime": {
     "end_time": "2020-07-24T05:08:42.061950Z",
     "start_time": "2020-07-24T04:45:33.609572Z"
    }
   },
   "outputs": [
    {
     "name": "stdout",
     "output_type": "stream",
     "text": [
      "Wall time: 23min 8s\n"
     ]
    }
   ],
   "source": [
    "%%time\n",
    "embedding_vector_size = 256\n",
    "trigrams_model = Word2Vec(sentences = trigrams[bigrams[all_reviews]],\n",
    "                         size = embedding_vector_size,\n",
    "                         min_count = 3,\n",
    "                         window = 5,\n",
    "                         workers = 4)"
   ]
  },
  {
   "cell_type": "code",
   "execution_count": 22,
   "metadata": {
    "ExecuteTime": {
     "end_time": "2020-07-24T05:08:42.146719Z",
     "start_time": "2020-07-24T05:08:42.126797Z"
    }
   },
   "outputs": [
    {
     "name": "stdout",
     "output_type": "stream",
     "text": [
      "Vocabulary Size :  273637\n"
     ]
    }
   ],
   "source": [
    "print(\"Vocabulary Size : \", len(trigrams_model.wv.vocab))"
   ]
  },
  {
   "cell_type": "code",
   "execution_count": 23,
   "metadata": {
    "ExecuteTime": {
     "end_time": "2020-07-24T05:08:44.255936Z",
     "start_time": "2020-07-24T05:08:42.325064Z"
    },
    "code_folding": []
   },
   "outputs": [
    {
     "data": {
      "text/plain": [
       "[('man,', 0.6237987279891968),\n",
       " ('man_who', 0.5586242079734802),\n",
       " ('person', 0.5584558248519897),\n",
       " ('woman', 0.5534559488296509),\n",
       " ('guy', 0.5475595593452454),\n",
       " ('young_man', 0.5377113819122314),\n",
       " ('man.', 0.5331538915634155),\n",
       " ('black_man', 0.5310970544815063),\n",
       " ('men', 0.5075743198394775),\n",
       " ('white_man', 0.5003026127815247)]"
      ]
     },
     "execution_count": 23,
     "metadata": {},
     "output_type": "execute_result"
    }
   ],
   "source": [
    "# Check Word2Vec model \n",
    "trigrams_model.wv.most_similar('man')"
   ]
  },
  {
   "cell_type": "code",
   "execution_count": 26,
   "metadata": {
    "ExecuteTime": {
     "end_time": "2020-07-23T09:04:24.509734Z",
     "start_time": "2020-07-23T09:04:21.415869Z"
    },
    "code_folding": [
     0
    ]
   },
   "outputs": [
    {
     "data": {
      "text/plain": [
       "'dog'"
      ]
     },
     "execution_count": 26,
     "metadata": {},
     "output_type": "execute_result"
    }
   ],
   "source": [
    "# Check disimilar words\n",
    "trigrams_model.wv.doesnt_match(['galaxy','starship','planet','dog'])"
   ]
  },
  {
   "cell_type": "code",
   "execution_count": 24,
   "metadata": {
    "ExecuteTime": {
     "end_time": "2020-07-24T05:28:27.406249Z",
     "start_time": "2020-07-24T05:08:44.257931Z"
    }
   },
   "outputs": [
    {
     "name": "stdout",
     "output_type": "stream",
     "text": [
      "Convert sentences to sentences with ngrams... (done)\n",
      "Vectorize sentences... (done)\n",
      "Transform sentences to sequences... (done)\n"
     ]
    }
   ],
   "source": [
    "def vectorize_data(data, vocab):\n",
    "    \n",
    "    print('Vectorize sentences...', end='\\r')\n",
    "    keys = list(vocab.keys())\n",
    "    filter_unknown = lambda word: vocab.get(word, None) is not None\n",
    "    encode = lambda review: list(map(keys.index, filter(filter_unknown, review)))\n",
    "    vectorized = list(map(encode, data))\n",
    "    print('Vectorize sentences... (done)')\n",
    "    return vectorized\n",
    "\n",
    "print('Convert sentences to sentences with ngrams...', end='\\r')\n",
    "X_data = trigrams[bigrams[all_reviews[0:75000]]]\n",
    "print('Convert sentences to sentences with ngrams... (done)')\n",
    "input_length = 150\n",
    "X_pad = pad_sequences(\n",
    "    sequences=vectorize_data(X_data, vocab=trigrams_model.wv.vocab),\n",
    "    maxlen=input_length,\n",
    "    padding='post')\n",
    "print('Transform sentences to sequences... (done)')   "
   ]
  },
  {
   "cell_type": "code",
   "execution_count": 69,
   "metadata": {
    "ExecuteTime": {
     "end_time": "2020-07-24T18:33:25.490192Z",
     "start_time": "2020-07-24T18:33:23.378501Z"
    }
   },
   "outputs": [
    {
     "name": "stdout",
     "output_type": "stream",
     "text": [
      "Convert sentences to sentences with ngrams...\r",
      "Convert sentences to sentences with ngrams... (done)\n",
      "Vectorize sentences...\r"
     ]
    },
    {
     "name": "stderr",
     "output_type": "stream",
     "text": [
      "IOPub data rate exceeded.\n",
      "The notebook server will temporarily stop sending output\n",
      "to the client in order to avoid crashing it.\n",
      "To change this limit, set the config variable\n",
      "`--NotebookApp.iopub_data_rate_limit`.\n",
      "\n",
      "Current values:\n",
      "NotebookApp.iopub_data_rate_limit=1000000.0 (bytes/sec)\n",
      "NotebookApp.rate_limit_window=3.0 (secs)\n",
      "\n"
     ]
    },
    {
     "name": "stdout",
     "output_type": "stream",
     "text": [
      "Vectorize sentences... (done)\n",
      "Transform sentences to sequences... (done)\n"
     ]
    }
   ],
   "source": [
    "def vectorize_data(data, vocab):\n",
    "    \n",
    "    print('Vectorize sentences...', end='\\r')\n",
    "    keys = list(vocab.keys())\n",
    "    print(keys)\n",
    "    filter_unknown = lambda word: vocab.get(word, None) is not None\n",
    "    print(filter_unknown)\n",
    "    encode = lambda review: list(map(keys.index, filter(filter_unknown, review)))\n",
    "    print(encode)\n",
    "    vectorized = list(map(encode, data))\n",
    "    print('Vectorize sentences... (done)')\n",
    "    return vectorized\n",
    "\n",
    "print('Convert sentences to sentences with ngrams...', end='\\r')\n",
    "X_data = trigrams[bigrams[all_reviews[0:75000]]]\n",
    "print('Convert sentences to sentences with ngrams... (done)')\n",
    "input_length = 150\n",
    "X_pad = pad_sequences(\n",
    "    sequences=vectorize_data(X_data[0], vocab=trigrams_model.wv.vocab),\n",
    "    maxlen=input_length,\n",
    "    padding='post')\n",
    "print('Transform sentences to sequences... (done)')"
   ]
  },
  {
   "cell_type": "code",
   "execution_count": 70,
   "metadata": {
    "ExecuteTime": {
     "end_time": "2020-07-24T18:35:31.430211Z",
     "start_time": "2020-07-24T18:35:30.591940Z"
    }
   },
   "outputs": [
    {
     "name": "stderr",
     "output_type": "stream",
     "text": [
      "IOPub data rate exceeded.\n",
      "The notebook server will temporarily stop sending output\n",
      "to the client in order to avoid crashing it.\n",
      "To change this limit, set the config variable\n",
      "`--NotebookApp.iopub_data_rate_limit`.\n",
      "\n",
      "Current values:\n",
      "NotebookApp.iopub_data_rate_limit=1000000.0 (bytes/sec)\n",
      "NotebookApp.rate_limit_window=3.0 (secs)\n",
      "\n"
     ]
    },
    {
     "name": "stdout",
     "output_type": "stream",
     "text": [
      "Vectorize sentences... (done)\n"
     ]
    }
   ],
   "source": [
    "sequences=vectorize_data(X_data[0], vocab=trigrams_model.wv.vocab)"
   ]
  },
  {
   "cell_type": "code",
   "execution_count": 68,
   "metadata": {
    "ExecuteTime": {
     "end_time": "2020-07-24T18:31:36.954291Z",
     "start_time": "2020-07-24T18:31:36.749493Z"
    }
   },
   "outputs": [
    {
     "data": {
      "text/plain": [
       "<function __main__.<lambda>(word)>"
      ]
     },
     "execution_count": 68,
     "metadata": {},
     "output_type": "execute_result"
    }
   ],
   "source": [
    "lambda word : trigrams_model.wv.vocab.get('taimur', None) is not None"
   ]
  },
  {
   "cell_type": "code",
   "execution_count": 63,
   "metadata": {
    "ExecuteTime": {
     "end_time": "2020-07-24T18:29:27.757120Z",
     "start_time": "2020-07-24T18:29:27.530687Z"
    }
   },
   "outputs": [
    {
     "data": {
      "text/plain": [
       "['stuff',\n",
       " 'go',\n",
       " 'moment',\n",
       " 'mj',\n",
       " 'start',\n",
       " 'listen_music',\n",
       " 'watch',\n",
       " 'odd',\n",
       " 'documentary',\n",
       " 'watch',\n",
       " 'wiz',\n",
       " 'watch',\n",
       " 'moonwalker',\n",
       " 'maybe',\n",
       " 'want',\n",
       " 'get',\n",
       " 'certain',\n",
       " 'insight',\n",
       " 'guy',\n",
       " 'thought',\n",
       " 'really',\n",
       " 'cool',\n",
       " 'eighty',\n",
       " 'maybe',\n",
       " 'make',\n",
       " 'mind',\n",
       " 'whether',\n",
       " 'guilty_innocent',\n",
       " 'moonwalker',\n",
       " 'part',\n",
       " 'biography',\n",
       " 'part',\n",
       " 'feature',\n",
       " 'film',\n",
       " 'remember',\n",
       " 'go',\n",
       " 'see',\n",
       " 'cinema',\n",
       " 'originally_release',\n",
       " 'subtle_message',\n",
       " 'mj',\n",
       " 'feel',\n",
       " 'towards',\n",
       " 'press',\n",
       " 'also',\n",
       " 'obvious',\n",
       " 'message',\n",
       " 'drug',\n",
       " 'bad',\n",
       " 'kay',\n",
       " 'visually_impressive',\n",
       " 'course',\n",
       " 'michael_jackson',\n",
       " 'unless',\n",
       " 'remotely',\n",
       " 'like',\n",
       " 'mj',\n",
       " 'anyway',\n",
       " 'go',\n",
       " 'hate',\n",
       " 'find',\n",
       " 'boring',\n",
       " 'may',\n",
       " 'call',\n",
       " 'mj',\n",
       " 'egotist',\n",
       " 'consent',\n",
       " 'make',\n",
       " 'movie',\n",
       " 'mj',\n",
       " 'fan',\n",
       " 'would',\n",
       " 'say',\n",
       " 'make',\n",
       " 'fan',\n",
       " 'true',\n",
       " 'really',\n",
       " 'nice',\n",
       " 'actual',\n",
       " 'feature',\n",
       " 'film',\n",
       " 'bit',\n",
       " 'finally',\n",
       " 'start',\n",
       " 'minute',\n",
       " 'exclude',\n",
       " 'smooth_criminal_sequence',\n",
       " 'joe_pesci',\n",
       " 'convincing',\n",
       " 'psychopathic',\n",
       " 'powerful',\n",
       " 'drug_lord',\n",
       " 'want',\n",
       " 'mj',\n",
       " 'dead',\n",
       " 'bad',\n",
       " 'beyond',\n",
       " 'mj',\n",
       " 'overheard',\n",
       " 'plan',\n",
       " 'nah',\n",
       " 'joe_pesci',\n",
       " 'character',\n",
       " 'rant',\n",
       " 'want',\n",
       " 'people',\n",
       " 'know',\n",
       " 'supply',\n",
       " 'drug',\n",
       " 'etc',\n",
       " 'dunno',\n",
       " 'maybe',\n",
       " 'hate',\n",
       " 'mj',\n",
       " 'music',\n",
       " 'lot',\n",
       " 'cool',\n",
       " 'thing',\n",
       " 'like',\n",
       " 'mj',\n",
       " 'turn',\n",
       " 'car',\n",
       " 'robot',\n",
       " 'whole',\n",
       " 'speed_demon',\n",
       " 'sequence',\n",
       " 'also',\n",
       " 'director',\n",
       " 'must',\n",
       " 'patience',\n",
       " 'saint',\n",
       " 'come',\n",
       " 'film',\n",
       " 'kiddy',\n",
       " 'bad',\n",
       " 'sequence',\n",
       " 'usually',\n",
       " 'director',\n",
       " 'hate',\n",
       " 'work',\n",
       " 'one',\n",
       " 'kid',\n",
       " 'let_alone',\n",
       " 'whole_bunch',\n",
       " 'perform',\n",
       " 'complex',\n",
       " 'dance',\n",
       " 'scene',\n",
       " 'bottom_line',\n",
       " 'movie',\n",
       " 'people',\n",
       " 'like',\n",
       " 'mj',\n",
       " 'one',\n",
       " 'level',\n",
       " 'another',\n",
       " 'think',\n",
       " 'people',\n",
       " 'stay_away',\n",
       " 'try',\n",
       " 'give',\n",
       " 'wholesome',\n",
       " 'message',\n",
       " 'ironically',\n",
       " 'mj',\n",
       " 'bestest',\n",
       " 'buddy',\n",
       " 'movie',\n",
       " 'girl',\n",
       " 'michael_jackson',\n",
       " 'truly',\n",
       " 'one',\n",
       " 'talented',\n",
       " 'people',\n",
       " 'ever_grace',\n",
       " 'planet',\n",
       " 'guilty',\n",
       " 'well',\n",
       " 'attention',\n",
       " 'give',\n",
       " 'subject',\n",
       " 'hmmm',\n",
       " 'well',\n",
       " 'know',\n",
       " 'people',\n",
       " 'different',\n",
       " 'behind_close_door',\n",
       " 'know',\n",
       " 'fact',\n",
       " 'either',\n",
       " 'extremely',\n",
       " 'nice',\n",
       " 'stupid',\n",
       " 'guy',\n",
       " 'one',\n",
       " 'sickest',\n",
       " 'liar',\n",
       " 'hope',\n",
       " 'latter']"
      ]
     },
     "execution_count": 63,
     "metadata": {},
     "output_type": "execute_result"
    }
   ],
   "source": [
    "X_data[0]"
   ]
  },
  {
   "cell_type": "code",
   "execution_count": 64,
   "metadata": {
    "ExecuteTime": {
     "end_time": "2020-07-24T18:29:54.552701Z",
     "start_time": "2020-07-24T18:29:54.521758Z"
    }
   },
   "outputs": [
    {
     "data": {
      "text/plain": [
       "array([ 42,  43,  44,  45,  46,  47,  48,   3,  49,   1,  50,  51,  52,\n",
       "        53,  54,   3,  55,  56,  21,  57,   3,  58,  59,  60,  21,  58,\n",
       "        61,  18,  62,  63,  27,  28,  64,  65,   4,  66,  67,  68,  69,\n",
       "        70,  71,  72,  73,  12,   3,  74,  41,  75,   3,  76,  77,  78,\n",
       "        69,  79,  80,  12,  81,  82,  83,  40,  84,  85,  11,  50,   3,\n",
       "        86,  87,  19,  88,  48,   3,  89,  90,  91,  92,  93,  94,  37,\n",
       "        95,  96,  97,  98,  99,  28, 100,  41,  94, 101,  95,  50, 102,\n",
       "       103, 104, 105, 106, 107, 108, 109, 110, 111,  57,  81,  48,   3,\n",
       "       103, 112, 113, 114,  81, 115, 116, 117, 118,  39, 119,   3, 120,\n",
       "       121,  57, 122,  45, 123, 103, 124,  81, 125, 126, 127, 128, 129,\n",
       "       117, 130, 131, 128,  82,  81, 132, 133,  82, 134, 135, 136,  62,\n",
       "       137,  16, 103, 138, 139, 140, 141])"
      ]
     },
     "execution_count": 64,
     "metadata": {},
     "output_type": "execute_result"
    }
   ],
   "source": [
    "X_pad[0]"
   ]
  },
  {
   "cell_type": "code",
   "execution_count": 62,
   "metadata": {
    "ExecuteTime": {
     "end_time": "2020-07-24T18:28:49.580401Z",
     "start_time": "2020-07-24T18:28:49.273220Z"
    }
   },
   "outputs": [
    {
     "data": {
      "text/plain": [
       "['stuff',\n",
       " 'go',\n",
       " 'moment',\n",
       " 'mj',\n",
       " 'start',\n",
       " 'listen_music',\n",
       " 'watch',\n",
       " 'odd',\n",
       " 'documentary',\n",
       " 'wiz',\n",
       " 'moonwalker',\n",
       " 'maybe',\n",
       " 'want',\n",
       " 'get',\n",
       " 'certain',\n",
       " 'insight',\n",
       " 'guy',\n",
       " 'thought',\n",
       " 'really',\n",
       " 'cool',\n",
       " 'eighty',\n",
       " 'make',\n",
       " 'mind',\n",
       " 'whether',\n",
       " 'guilty_innocent',\n",
       " 'part',\n",
       " 'biography',\n",
       " 'feature',\n",
       " 'film',\n",
       " 'remember',\n",
       " 'see',\n",
       " 'cinema',\n",
       " 'originally_release',\n",
       " 'subtle_message',\n",
       " 'feel',\n",
       " 'towards',\n",
       " 'press',\n",
       " 'also',\n",
       " 'obvious',\n",
       " 'message',\n",
       " 'drug',\n",
       " 'bad',\n",
       " 'kay',\n",
       " 'visually_impressive',\n",
       " 'course',\n",
       " 'michael_jackson',\n",
       " 'unless',\n",
       " 'remotely',\n",
       " 'like',\n",
       " 'anyway',\n",
       " 'hate',\n",
       " 'find',\n",
       " 'boring',\n",
       " 'may',\n",
       " 'call',\n",
       " 'egotist',\n",
       " 'consent',\n",
       " 'movie',\n",
       " 'fan',\n",
       " 'would',\n",
       " 'say',\n",
       " 'true',\n",
       " 'nice',\n",
       " 'actual',\n",
       " 'bit',\n",
       " 'finally',\n",
       " 'minute',\n",
       " 'exclude',\n",
       " 'smooth_criminal_sequence',\n",
       " 'joe_pesci',\n",
       " 'convincing',\n",
       " 'psychopathic',\n",
       " 'powerful',\n",
       " 'drug_lord',\n",
       " 'dead',\n",
       " 'beyond',\n",
       " 'overheard',\n",
       " 'plan',\n",
       " 'nah',\n",
       " 'character',\n",
       " 'rant',\n",
       " 'people',\n",
       " 'know',\n",
       " 'supply',\n",
       " 'etc',\n",
       " 'dunno',\n",
       " 'music',\n",
       " 'lot',\n",
       " 'thing',\n",
       " 'turn',\n",
       " 'car',\n",
       " 'robot',\n",
       " 'whole',\n",
       " 'speed_demon',\n",
       " 'sequence',\n",
       " 'director',\n",
       " 'must',\n",
       " 'patience',\n",
       " 'saint',\n",
       " 'come',\n",
       " 'kiddy',\n",
       " 'usually',\n",
       " 'work',\n",
       " 'one',\n",
       " 'kid',\n",
       " 'let_alone',\n",
       " 'whole_bunch',\n",
       " 'perform',\n",
       " 'complex',\n",
       " 'dance',\n",
       " 'scene',\n",
       " 'bottom_line',\n",
       " 'level',\n",
       " 'another',\n",
       " 'think',\n",
       " 'stay_away',\n",
       " 'try',\n",
       " 'give',\n",
       " 'wholesome',\n",
       " 'ironically',\n",
       " 'bestest',\n",
       " 'buddy',\n",
       " 'girl',\n",
       " 'truly',\n",
       " 'talented',\n",
       " 'ever_grace',\n",
       " 'planet',\n",
       " 'guilty',\n",
       " 'well',\n",
       " 'attention',\n",
       " 'subject',\n",
       " 'hmmm',\n",
       " 'different',\n",
       " 'behind_close_door',\n",
       " 'fact',\n",
       " 'either',\n",
       " 'extremely',\n",
       " 'stupid',\n",
       " 'sickest',\n",
       " 'liar',\n",
       " 'hope',\n",
       " 'latter',\n",
       " 'classic',\n",
       " 'war',\n",
       " 'world',\n",
       " 'timothy_hines',\n",
       " 'entertain',\n",
       " 'obviously',\n",
       " 'great',\n",
       " 'effort',\n",
       " 'length',\n",
       " 'faithfully',\n",
       " 'recreate',\n",
       " 'h_g_well',\n",
       " 'book',\n",
       " 'mr_hines',\n",
       " 'succeed',\n",
       " 'appreciate',\n",
       " 'standard',\n",
       " 'predictable',\n",
       " 'hollywood_fare',\n",
       " 'every',\n",
       " 'year',\n",
       " 'e_g',\n",
       " 'spielberg_version',\n",
       " 'tom_cruise',\n",
       " 'slightest_resemblance',\n",
       " 'everyone',\n",
       " 'look',\n",
       " 'envision',\n",
       " 'amateur',\n",
       " 'critic',\n",
       " 'criticize',\n",
       " 'everything',\n",
       " 'others',\n",
       " 'rate',\n",
       " 'important',\n",
       " 'base',\n",
       " 'never',\n",
       " 'agree_critic',\n",
       " 'enjoy',\n",
       " 'put',\n",
       " 'faithful',\n",
       " 'classic_novel',\n",
       " 'found',\n",
       " 'easy_overlook',\n",
       " 'perceive',\n",
       " 'shortcoming',\n",
       " 'manager',\n",
       " 'nicholas',\n",
       " 'bell',\n",
       " 'welcome',\n",
       " 'investor',\n",
       " 'robert_carradine',\n",
       " 'primal_park',\n",
       " 'secret',\n",
       " 'project',\n",
       " 'mutate',\n",
       " 'primal',\n",
       " 'animal',\n",
       " 'use',\n",
       " 'fossilize',\n",
       " 'dna',\n",
       " 'jurassik',\n",
       " 'park',\n",
       " 'scientist',\n",
       " 'resurrect',\n",
       " 'nature',\n",
       " 'fearsome',\n",
       " 'predator',\n",
       " 'sabretooth_tiger',\n",
       " 'smilodon',\n",
       " 'scientific',\n",
       " 'ambition',\n",
       " 'deadly',\n",
       " 'however',\n",
       " 'high_voltage',\n",
       " 'fence',\n",
       " 'open',\n",
       " 'creature',\n",
       " 'escape',\n",
       " 'begin',\n",
       " 'savagely',\n",
       " 'stalk_prey',\n",
       " 'human',\n",
       " 'visitor',\n",
       " 'tourist',\n",
       " 'meanwhile',\n",
       " 'youngster',\n",
       " 'enter',\n",
       " 'restrict',\n",
       " 'area',\n",
       " 'security',\n",
       " 'center',\n",
       " 'attack',\n",
       " 'pack',\n",
       " 'large',\n",
       " 'pre',\n",
       " 'historical',\n",
       " 'deadlier',\n",
       " 'big',\n",
       " 'addition',\n",
       " 'agent',\n",
       " 'stacy',\n",
       " 'haiduk',\n",
       " 'mate',\n",
       " 'brian',\n",
       " 'wimmer',\n",
       " 'fight',\n",
       " 'hardly',\n",
       " 'carnivorous',\n",
       " 'sabretooths',\n",
       " 'real',\n",
       " 'star',\n",
       " 'astound',\n",
       " 'terrifyingly',\n",
       " 'though',\n",
       " 'giant',\n",
       " 'group',\n",
       " 'run_afoul',\n",
       " 'furthermore',\n",
       " 'third',\n",
       " 'sabretooth',\n",
       " 'dangerous',\n",
       " 'slow',\n",
       " 'stalk_victim',\n",
       " 'delivers',\n",
       " 'good',\n",
       " 'lot_blood_gore',\n",
       " 'beheading',\n",
       " 'hair_raise',\n",
       " 'chill',\n",
       " 'full',\n",
       " 'scare',\n",
       " 'appear',\n",
       " 'mediocre',\n",
       " 'special_effect',\n",
       " 'story',\n",
       " 'provide',\n",
       " 'excite',\n",
       " 'stir',\n",
       " 'entertainment',\n",
       " 'result',\n",
       " 'quite',\n",
       " 'majority',\n",
       " 'computer',\n",
       " 'generator',\n",
       " 'seem',\n",
       " 'totally',\n",
       " 'lousy',\n",
       " 'middle',\n",
       " 'performance',\n",
       " 'player',\n",
       " 'react',\n",
       " 'appropriately',\n",
       " 'become',\n",
       " 'food',\n",
       " 'actor',\n",
       " 'vigorously',\n",
       " 'physical',\n",
       " 'dodge',\n",
       " 'beast',\n",
       " 'run',\n",
       " 'bound',\n",
       " 'leap',\n",
       " 'dangle',\n",
       " 'wall',\n",
       " 'ridiculous',\n",
       " 'final',\n",
       " 'small',\n",
       " 'realistic',\n",
       " 'gory_violent',\n",
       " 'follow',\n",
       " 'james',\n",
       " 'r',\n",
       " 'hickox',\n",
       " 'vanessa',\n",
       " 'angel',\n",
       " 'david_keith',\n",
       " 'john_rhys_davy',\n",
       " 'much',\n",
       " 'bc',\n",
       " 'roland_emmerich',\n",
       " 'steven',\n",
       " 'strait',\n",
       " 'cliff',\n",
       " 'curtis',\n",
       " 'camilla_belle',\n",
       " 'motion_picture',\n",
       " 'fill',\n",
       " 'bloody',\n",
       " 'badly_direct',\n",
       " 'george_miller',\n",
       " 'originality',\n",
       " 'take',\n",
       " 'many',\n",
       " 'element',\n",
       " 'previous',\n",
       " 'miller',\n",
       " 'australian',\n",
       " 'television',\n",
       " 'tidal_wave',\n",
       " 'journey_center_earth',\n",
       " 'many_others',\n",
       " 'occasionally',\n",
       " 'man_snowy_river',\n",
       " 'zeus',\n",
       " 'roxanne',\n",
       " 'robinson',\n",
       " 'crusoe',\n",
       " 'rating',\n",
       " 'average',\n",
       " 'bottom_barrel',\n",
       " 'must_assume',\n",
       " 'praise',\n",
       " 'opera',\n",
       " 'ever',\n",
       " 'read_somewhere',\n",
       " 'care',\n",
       " 'wagner',\n",
       " 'anything_except',\n",
       " 'desire',\n",
       " 'culture',\n",
       " 'representation',\n",
       " 'swan_song',\n",
       " 'strike',\n",
       " 'unmitigated_disaster',\n",
       " 'leaden',\n",
       " 'reading',\n",
       " 'score',\n",
       " 'match',\n",
       " 'tricksy',\n",
       " 'lugubrious',\n",
       " 'realisation',\n",
       " 'text',\n",
       " 'questionable',\n",
       " 'idea',\n",
       " 'matter',\n",
       " 'play',\n",
       " 'especially',\n",
       " 'shakespeare',\n",
       " 'allow',\n",
       " 'anywhere_near',\n",
       " 'theatre',\n",
       " 'studio',\n",
       " 'syberberg',\n",
       " 'fashionably',\n",
       " 'without',\n",
       " 'justification',\n",
       " 'decide',\n",
       " 'parsifal',\n",
       " 'bisexual',\n",
       " 'integration',\n",
       " 'title',\n",
       " 'latter_stage',\n",
       " 'transmutes',\n",
       " 'kind',\n",
       " 'beatnik',\n",
       " 'babe',\n",
       " 'continue',\n",
       " 'sing',\n",
       " 'high',\n",
       " 'tenor',\n",
       " 'singer',\n",
       " 'double_dose',\n",
       " 'armin_jordan',\n",
       " 'conductor',\n",
       " 'face',\n",
       " 'heard',\n",
       " 'voice',\n",
       " 'amfortas',\n",
       " 'monstrously',\n",
       " 'double_exposure',\n",
       " 'ate',\n",
       " 'friday',\n",
       " 'way',\n",
       " 'transcendant',\n",
       " 'loveliness',\n",
       " 'represent',\n",
       " 'scatter',\n",
       " 'shopworn',\n",
       " 'flaccid',\n",
       " 'stuck',\n",
       " 'ill',\n",
       " 'laid',\n",
       " 'turf',\n",
       " 'expedient',\n",
       " 'baffle',\n",
       " 'sometimes',\n",
       " 'piece',\n",
       " 'imperfection',\n",
       " 'splice',\n",
       " 'gurnemanz',\n",
       " 'mountain',\n",
       " 'pasture',\n",
       " 'lush',\n",
       " 'julie_andrew',\n",
       " 'sound',\n",
       " 'hard',\n",
       " 'endure',\n",
       " 'trumpet',\n",
       " 'particular',\n",
       " 'possess',\n",
       " 'aural',\n",
       " 'glare',\n",
       " 'add',\n",
       " 'sort',\n",
       " 'fatigue',\n",
       " 'impatience',\n",
       " 'uninspired',\n",
       " 'conduct',\n",
       " 'paralytic',\n",
       " 'unfold',\n",
       " 'ritual',\n",
       " 'someone',\n",
       " 'review',\n",
       " 'mention',\n",
       " 'bayreuth',\n",
       " 'record',\n",
       " 'knappertsbusch',\n",
       " 'tempo',\n",
       " 'often',\n",
       " 'jordan',\n",
       " 'altogether',\n",
       " 'lack',\n",
       " 'sense',\n",
       " 'pulse',\n",
       " 'ebb_flow',\n",
       " 'half_century',\n",
       " 'orchestral',\n",
       " 'set',\n",
       " 'modern',\n",
       " 'pressing',\n",
       " 'still',\n",
       " 'superior',\n",
       " 'superbly',\n",
       " 'trashy',\n",
       " 'wondrously',\n",
       " 'unpretentious',\n",
       " 'exploitation',\n",
       " 'hooray',\n",
       " 'pre_credit',\n",
       " 'opening_sequence',\n",
       " 'somewhat',\n",
       " 'false_impression',\n",
       " 'deal',\n",
       " 'serious',\n",
       " 'harrow',\n",
       " 'drama',\n",
       " 'need',\n",
       " 'fear',\n",
       " 'barely',\n",
       " 'ten_minute',\n",
       " 'later',\n",
       " 'neck',\n",
       " 'nonsensical',\n",
       " 'chainsaw',\n",
       " 'battle',\n",
       " 'rough',\n",
       " 'fist_fight',\n",
       " 'lurid',\n",
       " 'dialog',\n",
       " 'gratuitous_nudity',\n",
       " 'bo_ingrid',\n",
       " 'two',\n",
       " 'orphan',\n",
       " 'sibling',\n",
       " 'unusually',\n",
       " 'close',\n",
       " 'even',\n",
       " 'slightly',\n",
       " 'pervert',\n",
       " 'relationship',\n",
       " 'imagine',\n",
       " 'playfully',\n",
       " 'rip',\n",
       " 'towel',\n",
       " 'cover',\n",
       " 'sister',\n",
       " 'naked_body',\n",
       " 'stare',\n",
       " 'unshaven',\n",
       " 'genitals',\n",
       " 'several',\n",
       " 'bo',\n",
       " 'judging',\n",
       " 'dubbed',\n",
       " 'laughter',\n",
       " 'sick',\n",
       " 'dude',\n",
       " 'flee',\n",
       " 'russia',\n",
       " 'parent',\n",
       " 'nasty',\n",
       " 'soldier',\n",
       " 'brutally_slaughter',\n",
       " 'mommy_daddy',\n",
       " 'friendly',\n",
       " 'smuggler',\n",
       " 'take_custody',\n",
       " 'raise',\n",
       " 'train',\n",
       " 'expert',\n",
       " 'plot',\n",
       " 'lift',\n",
       " 'year_later',\n",
       " 'ultimate',\n",
       " 'quest',\n",
       " 'mythical',\n",
       " 'incredibly',\n",
       " 'valuable',\n",
       " 'white',\n",
       " 'fire',\n",
       " 'diamond',\n",
       " 'coincidentally',\n",
       " 'mine',\n",
       " 'life',\n",
       " 'little',\n",
       " 'narrative_structure',\n",
       " 'sure',\n",
       " 'lot_fun',\n",
       " 'time',\n",
       " 'clue',\n",
       " 'beating',\n",
       " 'cause',\n",
       " 'bet',\n",
       " 'understood',\n",
       " 'less',\n",
       " 'whatever',\n",
       " 'violence',\n",
       " 'magnificently',\n",
       " 'grotesque',\n",
       " 'every_single',\n",
       " 'plot_twist',\n",
       " 'pleasingly',\n",
       " 'retard',\n",
       " 'script',\n",
       " 'totally_bonkers',\n",
       " 'beyond_repair',\n",
       " 'suddenly',\n",
       " 'reveal',\n",
       " 'reason',\n",
       " 'replacement',\n",
       " 'ingrid',\n",
       " 'fred_williamson',\n",
       " 'enters',\n",
       " 'cigar_mouth',\n",
       " 'sleazy',\n",
       " 'black',\n",
       " 'finger',\n",
       " 'local_prostitute',\n",
       " 'principal',\n",
       " 'opponent',\n",
       " 'italian',\n",
       " 'chick',\n",
       " 'big_breast',\n",
       " 'hideous',\n",
       " 'accent',\n",
       " 'preposterous',\n",
       " 'catchy_theme_song',\n",
       " 'least_dozen_time',\n",
       " 'throughout',\n",
       " 'obligatory',\n",
       " 'fall_love',\n",
       " 'montage',\n",
       " 'load',\n",
       " 'attraction',\n",
       " 'god',\n",
       " 'brilliant',\n",
       " 'experience',\n",
       " 'original',\n",
       " 'french',\n",
       " 'translates',\n",
       " 'survive',\n",
       " 'uniquely',\n",
       " 'appropriate',\n",
       " 'rest',\n",
       " 'none',\n",
       " 'dont_know',\n",
       " 'pretty_good',\n",
       " 'action',\n",
       " 'change',\n",
       " 'location',\n",
       " 'harry',\n",
       " 'hurt_either',\n",
       " 'offensive',\n",
       " 'gratuitous',\n",
       " 'eastwood',\n",
       " 'form',\n",
       " 'dirty_harry',\n",
       " 'pat_hingle',\n",
       " 'small_town',\n",
       " 'cop',\n",
       " 'dead_pool',\n",
       " 'could',\n",
       " 'short',\n",
       " 'cheesy_special_effect',\n",
       " 'act',\n",
       " 'past',\n",
       " 'background',\n",
       " 'plot_center_around',\n",
       " 'evil',\n",
       " 'druid_witch',\n",
       " 'link',\n",
       " 'woman',\n",
       " 'migraine',\n",
       " 'drag',\n",
       " 'clearly',\n",
       " 'explains',\n",
       " 'anything',\n",
       " 'keep',\n",
       " 'plod',\n",
       " 'christopher_walken',\n",
       " 'completely',\n",
       " 'senseless',\n",
       " 'potential',\n",
       " 'look_like',\n",
       " 'make_tv',\n",
       " 'avoid',\n",
       " 'video',\n",
       " 'friend',\n",
       " 'house',\n",
       " 'glad',\n",
       " 'waste_money_buying',\n",
       " 'video_cover',\n",
       " 'capricorn',\n",
       " 'clip',\n",
       " 'rocket',\n",
       " 'blow',\n",
       " 'ups',\n",
       " 'related',\n",
       " 'man',\n",
       " 'flight',\n",
       " 'sibrel',\n",
       " 'smoking_gun',\n",
       " 'video_clip',\n",
       " 'astronaut',\n",
       " 'prepare',\n",
       " 'broadcast',\n",
       " 'edits',\n",
       " 'instead',\n",
       " 'let_u',\n",
       " 'listen',\n",
       " 'crew',\n",
       " 'curiously',\n",
       " 'end',\n",
       " 'show',\n",
       " 'zapruder',\n",
       " 'claim',\n",
       " 'radiation',\n",
       " 'shield',\n",
       " 'photography',\n",
       " 'lead_believe',\n",
       " 'ignorant',\n",
       " 'ax_grind',\n",
       " 'nasa',\n",
       " 'american',\n",
       " 'general',\n",
       " 'science',\n",
       " 'friend_mine_bought',\n",
       " 'grossly',\n",
       " 'overprice',\n",
       " 'despite',\n",
       " 'big_name',\n",
       " 'adam_sandler',\n",
       " 'billy_bob_thornton',\n",
       " 'incredibly_talented',\n",
       " 'burt_young',\n",
       " 'funny',\n",
       " 'chisel',\n",
       " 'hammer',\n",
       " 'straight',\n",
       " 'us',\n",
       " 'tire',\n",
       " 'comedic',\n",
       " 'technique',\n",
       " 'consistently',\n",
       " 'break_fourth_wall',\n",
       " 'sandler',\n",
       " 'talk',\n",
       " 'audience',\n",
       " 'seemingly_pointless',\n",
       " 'hot_girl',\n",
       " 'waiter',\n",
       " 'cruise_ship',\n",
       " 'successful',\n",
       " 'comedian',\n",
       " 'order',\n",
       " 'become_successful',\n",
       " 'ship',\n",
       " 'resident',\n",
       " 'shamelessly',\n",
       " 'name',\n",
       " 'dickie',\n",
       " 'due',\n",
       " 'unfathomable',\n",
       " 'success',\n",
       " 'opposite',\n",
       " 'gender',\n",
       " 'presume',\n",
       " 'lose_sea',\n",
       " 'big_break',\n",
       " 'rather',\n",
       " 'lock_bathroom',\n",
       " 'presumably',\n",
       " 'sea',\n",
       " 'perhaps',\n",
       " 'mouth',\n",
       " 'vomit',\n",
       " 'reference',\n",
       " 'mad_max',\n",
       " 'ii',\n",
       " 'wild',\n",
       " 'ladybug',\n",
       " 'clear',\n",
       " 'tribute',\n",
       " 'peter_lorre',\n",
       " 'masterpiece',\n",
       " 'future',\n",
       " 'happens',\n",
       " 'army',\n",
       " 'wetback',\n",
       " 'godless',\n",
       " 'eastern_european',\n",
       " 'commie',\n",
       " 'gather',\n",
       " 'force',\n",
       " 'south_border',\n",
       " 'gary_busey',\n",
       " 'kick_butt',\n",
       " 'laughable',\n",
       " 'example',\n",
       " 'reagan_era',\n",
       " 'cultural',\n",
       " 'fallout',\n",
       " 'bulletproof',\n",
       " 'waste',\n",
       " 'decent',\n",
       " 'support_cast',\n",
       " 'head',\n",
       " 'l_q_jones',\n",
       " 'thalmus_rasulala',\n",
       " 'although',\n",
       " 'generally',\n",
       " 'remake',\n",
       " 'believe',\n",
       " 'waste_time',\n",
       " 'exception',\n",
       " 'actually',\n",
       " 'far',\n",
       " 'reading_previous_comment',\n",
       " 'opinion',\n",
       " 'purely',\n",
       " 'comparison',\n",
       " 'write',\n",
       " 'question',\n",
       " 'capote',\n",
       " 'word',\n",
       " 'anthony_edward',\n",
       " 'eric_robert',\n",
       " 'superb',\n",
       " 'case',\n",
       " 'eric',\n",
       " 'always',\n",
       " 'wonder',\n",
       " 'number',\n",
       " 'famous',\n",
       " 'brother',\n",
       " 'certainty',\n",
       " 'mr',\n",
       " 'edward',\n",
       " 'top',\n",
       " 'profession',\n",
       " 'recommend',\n",
       " 'dvd_shelf',\n",
       " 'mr_harvey',\n",
       " 'light',\n",
       " 'candle',\n",
       " 'anchor',\n",
       " 'brilliant_performance',\n",
       " 'timothy_spall',\n",
       " 'predict',\n",
       " 'titular',\n",
       " 'morose',\n",
       " 'tight',\n",
       " 'teacher',\n",
       " 'break',\n",
       " 'catharsis',\n",
       " 'deep',\n",
       " 'emotion',\n",
       " 'unveiled',\n",
       " 'surprising',\n",
       " 'spall',\n",
       " 'range',\n",
       " 'feeling',\n",
       " 'conveyed',\n",
       " 'move',\n",
       " 'portray',\n",
       " 'mike_leigh',\n",
       " 'repertory',\n",
       " 'expect',\n",
       " 'school_bus',\n",
       " 'trip',\n",
       " 'comic',\n",
       " 'purpose',\n",
       " 'simpson',\n",
       " 'central',\n",
       " 'situation',\n",
       " 'visit',\n",
       " 'salisbury_cathedral',\n",
       " 'rhidian',\n",
       " 'brook',\n",
       " 'contain',\n",
       " 'structure',\n",
       " 'dramatic_purpose',\n",
       " 'almost',\n",
       " 'formally',\n",
       " 'divide',\n",
       " 'introduce',\n",
       " 'urban',\n",
       " 'british',\n",
       " 'racially',\n",
       " 'religiously',\n",
       " 'diverse',\n",
       " 'uniform',\n",
       " 'tell',\n",
       " 'private',\n",
       " 'public_school',\n",
       " 'rap',\n",
       " 'south_asian',\n",
       " 'muslim',\n",
       " 'bully',\n",
       " 'mean',\n",
       " 'naturally',\n",
       " 'individually',\n",
       " 'young',\n",
       " 'recognize',\n",
       " 'british_tv',\n",
       " 'shameless',\n",
       " 'exuberant',\n",
       " 'usual',\n",
       " 'junior_high',\n",
       " 'social',\n",
       " 'pressure',\n",
       " 'celia_imrie',\n",
       " 'warmth',\n",
       " 'supervisor',\n",
       " 'role',\n",
       " 'martinet',\n",
       " 'lead',\n",
       " 'transformative',\n",
       " 'crisis',\n",
       " 'remain',\n",
       " 'amusingly',\n",
       " 'oblivious',\n",
       " 'portrayed',\n",
       " 'ben_mile',\n",
       " 'couple',\n",
       " 'spoon_fed',\n",
       " 'didactic',\n",
       " 'lesson',\n",
       " 'religious_tolerance',\n",
       " 'faith',\n",
       " 'bbc',\n",
       " 'england',\n",
       " 'easter',\n",
       " 'bbc_america',\n",
       " 'show_u',\n",
       " 'christmas',\n",
       " 'nathalie_press',\n",
       " 'summer',\n",
       " 'love',\n",
       " 'key_role',\n",
       " 'redemption',\n",
       " 'played',\n",
       " 'week',\n",
       " 'preach',\n",
       " 'touch',\n",
       " 'reach',\n",
       " 'unexpected',\n",
       " 'unfortunately',\n",
       " 'saw',\n",
       " 'intense',\n",
       " 'interrupt',\n",
       " 'commercial',\n",
       " 'bit_heavy_hand',\n",
       " 'several_time',\n",
       " 'pointedly',\n",
       " 'road_trip',\n",
       " 'pilgrimage',\n",
       " 'quiet',\n",
       " 'best',\n",
       " 'evocation',\n",
       " 'men',\n",
       " 'holiday',\n",
       " 'theme',\n",
       " 'tv',\n",
       " 'submerge',\n",
       " 'right',\n",
       " 'champagne',\n",
       " 'money',\n",
       " 'final_product',\n",
       " 'repeatedly',\n",
       " 'stranger',\n",
       " 'nothing',\n",
       " 'edit',\n",
       " 'grade',\n",
       " 'amateurish',\n",
       " 'b_c_grade',\n",
       " 'enough_money',\n",
       " 'hire',\n",
       " 'cameraman',\n",
       " 'ok',\n",
       " 'sound_designer',\n",
       " 'previous_poster',\n",
       " 'problem',\n",
       " 'post_production',\n",
       " 'voice_dub',\n",
       " 'sg',\n",
       " 'flick',\n",
       " 'rent',\n",
       " 'email',\n",
       " 'ask_forgiveness',\n",
       " 'miss',\n",
       " 'kelly_lebrock',\n",
       " 'jimbo',\n",
       " 'note',\n",
       " 'george',\n",
       " 'mystery_science_theater',\n",
       " 'riff',\n",
       " 'breeder',\n",
       " 'favorite',\n",
       " 'simply',\n",
       " 'complete',\n",
       " 'absurdity',\n",
       " 'must_give_credit',\n",
       " 'mst_k_crew',\n",
       " 'ridicule',\n",
       " 'fun',\n",
       " 'bill',\n",
       " 'playwright',\n",
       " 'hand',\n",
       " 'production',\n",
       " 'disown',\n",
       " 'school_drama',\n",
       " 'club',\n",
       " 'would_recommend',\n",
       " 'buy',\n",
       " 'read',\n",
       " 'hamlet',\n",
       " 'stephen_king_adaptation',\n",
       " 'king',\n",
       " 'family',\n",
       " 'newcomer',\n",
       " 'rural',\n",
       " 'maine',\n",
       " 'pet_cemetery',\n",
       " 'home',\n",
       " 'father',\n",
       " 'dale_midkiff',\n",
       " ...]"
      ]
     },
     "execution_count": 62,
     "metadata": {},
     "output_type": "execute_result"
    }
   ],
   "source": [
    "list(trigrams_model.wv.vocab.keys())"
   ]
  },
  {
   "cell_type": "code",
   "execution_count": 25,
   "metadata": {
    "ExecuteTime": {
     "end_time": "2020-07-24T05:28:27.614469Z",
     "start_time": "2020-07-24T05:28:27.413229Z"
    }
   },
   "outputs": [
    {
     "data": {
      "text/plain": [
       "(75000, 3)"
      ]
     },
     "execution_count": 25,
     "metadata": {},
     "output_type": "execute_result"
    }
   ],
   "source": [
    "train_data_with_imdb.shape"
   ]
  },
  {
   "cell_type": "code",
   "execution_count": 26,
   "metadata": {
    "ExecuteTime": {
     "end_time": "2020-07-24T05:28:28.404897Z",
     "start_time": "2020-07-24T05:28:27.617461Z"
    }
   },
   "outputs": [],
   "source": [
    "Y_train_data = train_data_with_imdb.sentiment.values\n",
    "X_train, X_test, y_train, y_test = train_test_split(\n",
    "    X_pad,\n",
    "    Y_train_data,\n",
    "    test_size=0.05,\n",
    "    shuffle=True,\n",
    "    random_state=42)"
   ]
  },
  {
   "cell_type": "code",
   "execution_count": 29,
   "metadata": {
    "ExecuteTime": {
     "end_time": "2020-07-23T14:41:10.338738Z",
     "start_time": "2020-07-23T14:34:14.894532Z"
    }
   },
   "outputs": [
    {
     "name": "stdout",
     "output_type": "stream",
     "text": [
      "WARNING:tensorflow:From C:\\Users\\taimu\\Anaconda3\\lib\\site-packages\\tensorflow\\python\\ops\\resource_variable_ops.py:435: colocate_with (from tensorflow.python.framework.ops) is deprecated and will be removed in a future version.\n",
      "Instructions for updating:\n",
      "Colocations handled automatically by placer.\n",
      "WARNING:tensorflow:From C:\\Users\\taimu\\Anaconda3\\lib\\site-packages\\tensorflow\\python\\keras\\backend.py:4010: calling dropout (from tensorflow.python.ops.nn_ops) with keep_prob is deprecated and will be removed in a future version.\n",
      "Instructions for updating:\n",
      "Please use `rate` instead of `keep_prob`. Rate should be set to `rate = 1 - keep_prob`.\n",
      "_________________________________________________________________\n",
      "Layer (type)                 Output Shape              Param #   \n",
      "=================================================================\n",
      "embedding (Embedding)        (None, 150, 256)          70051072  \n",
      "_________________________________________________________________\n",
      "bidirectional (Bidirectional (None, 256)               394240    \n",
      "_________________________________________________________________\n",
      "dropout (Dropout)            (None, 256)               0         \n",
      "_________________________________________________________________\n",
      "dense (Dense)                (None, 64)                16448     \n",
      "_________________________________________________________________\n",
      "dropout_1 (Dropout)          (None, 64)                0         \n",
      "_________________________________________________________________\n",
      "dense_1 (Dense)              (None, 1)                 65        \n",
      "=================================================================\n",
      "Total params: 70,461,825\n",
      "Trainable params: 410,753\n",
      "Non-trainable params: 70,051,072\n",
      "_________________________________________________________________\n"
     ]
    }
   ],
   "source": [
    "def build_model(embedding_matrix: np.ndarray, input_length: int):\n",
    "    model = Sequential()\n",
    "    model.add(Embedding(\n",
    "        input_dim = embedding_matrix.shape[0],\n",
    "        output_dim = embedding_matrix.shape[1], \n",
    "        input_length = input_length,\n",
    "        weights = [embedding_matrix],\n",
    "        trainable=False))\n",
    "    model.add(Bidirectional(LSTM(128, recurrent_dropout=0.1)))\n",
    "    model.add(Dropout(0.25))\n",
    "    model.add(Dense(64))\n",
    "    model.add(Dropout(0.3))\n",
    "    model.add(Dense(1, activation='sigmoid'))\n",
    "    model.summary()\n",
    "    return model\n",
    "\n",
    "model = build_model(\n",
    "    embedding_matrix=trigrams_model.wv.vectors,\n",
    "    input_length=input_length)"
   ]
  },
  {
   "cell_type": "code",
   "execution_count": 35,
   "metadata": {
    "ExecuteTime": {
     "end_time": "2020-07-23T17:39:29.109621Z",
     "start_time": "2020-07-23T14:50:26.560217Z"
    }
   },
   "outputs": [
    {
     "name": "stdout",
     "output_type": "stream",
     "text": [
      "Train on 71250 samples, validate on 3750 samples\n",
      "WARNING:tensorflow:From C:\\Users\\taimu\\Anaconda3\\lib\\site-packages\\tensorflow\\python\\ops\\math_ops.py:3066: to_int32 (from tensorflow.python.ops.math_ops) is deprecated and will be removed in a future version.\n",
      "Instructions for updating:\n",
      "Use tf.cast instead.\n",
      "Epoch 1/20\n",
      "71250/71250 [==============================] - 632s 9ms/sample - loss: 0.5400 - acc: 0.7246 - val_loss: 0.4368 - val_acc: 0.7989\n",
      "Epoch 2/20\n",
      "71250/71250 [==============================] - 393s 6ms/sample - loss: 0.4143 - acc: 0.8150 - val_loss: 0.3788 - val_acc: 0.8333\n",
      "Epoch 3/20\n",
      "71250/71250 [==============================] - 420s 6ms/sample - loss: 0.3455 - acc: 0.8516 - val_loss: 0.3250 - val_acc: 0.8565\n",
      "Epoch 4/20\n",
      "71250/71250 [==============================] - 411s 6ms/sample - loss: 0.2853 - acc: 0.8820 - val_loss: 0.3134 - val_acc: 0.8712\n",
      "Epoch 5/20\n",
      "71250/71250 [==============================] - 423s 6ms/sample - loss: 0.2258 - acc: 0.9100 - val_loss: 0.3149 - val_acc: 0.8725\n",
      "Epoch 6/20\n",
      "71250/71250 [==============================] - 418s 6ms/sample - loss: 0.1821 - acc: 0.9281 - val_loss: 0.2627 - val_acc: 0.8989\n",
      "Epoch 7/20\n",
      "71250/71250 [==============================] - 410s 6ms/sample - loss: 0.1483 - acc: 0.9429 - val_loss: 0.2650 - val_acc: 0.9096\n",
      "Epoch 8/20\n",
      "71250/71250 [==============================] - 436s 6ms/sample - loss: 0.1251 - acc: 0.9521 - val_loss: 0.3036 - val_acc: 0.9019\n",
      "Epoch 9/20\n",
      "71250/71250 [==============================] - 429s 6ms/sample - loss: 0.1034 - acc: 0.9608 - val_loss: 0.3357 - val_acc: 0.8973\n",
      "Epoch 10/20\n",
      "71250/71250 [==============================] - 418s 6ms/sample - loss: 0.0876 - acc: 0.9676 - val_loss: 0.3119 - val_acc: 0.9181\n",
      "Epoch 11/20\n",
      "71250/71250 [==============================] - 409s 6ms/sample - loss: 0.0801 - acc: 0.9697 - val_loss: 0.2769 - val_acc: 0.9240\n",
      "Epoch 12/20\n",
      "71250/71250 [==============================] - 408s 6ms/sample - loss: 0.0738 - acc: 0.9727 - val_loss: 0.3152 - val_acc: 0.9259\n",
      "Epoch 13/20\n",
      "71250/71250 [==============================] - 407s 6ms/sample - loss: 0.0655 - acc: 0.9762 - val_loss: 0.2754 - val_acc: 0.9293\n",
      "Epoch 14/20\n",
      "71250/71250 [==============================] - 696s 10ms/sample - loss: 0.0628 - acc: 0.9772 - val_loss: 0.2892 - val_acc: 0.9264\n",
      "Epoch 15/20\n",
      "71250/71250 [==============================] - 469s 7ms/sample - loss: 0.0601 - acc: 0.9781 - val_loss: 0.2760 - val_acc: 0.9312\n",
      "Epoch 16/20\n",
      "71250/71250 [==============================] - 523s 7ms/sample - loss: 0.0552 - acc: 0.9801 - val_loss: 0.3081 - val_acc: 0.9320\n",
      "Epoch 17/20\n",
      "71250/71250 [==============================] - 472s 7ms/sample - loss: 0.0530 - acc: 0.9814 - val_loss: 0.2861 - val_acc: 0.9323\n",
      "Epoch 18/20\n",
      "71250/71250 [==============================] - 423s 6ms/sample - loss: 0.0493 - acc: 0.9820 - val_loss: 0.3309 - val_acc: 0.9363\n",
      "Epoch 19/20\n",
      "71250/71250 [==============================] - 425s 6ms/sample - loss: 0.0464 - acc: 0.9838 - val_loss: 0.3017 - val_acc: 0.9344\n",
      "Epoch 20/20\n",
      "71250/71250 [==============================] - 474s 7ms/sample - loss: 0.0443 - acc: 0.9839 - val_loss: 0.3165 - val_acc: 0.9379\n"
     ]
    }
   ],
   "source": [
    "model.compile(\n",
    "    loss=\"binary_crossentropy\",\n",
    "    optimizer='adam',\n",
    "    metrics=['accuracy'])\n",
    "\n",
    "history = model.fit(\n",
    "    x=X_train,\n",
    "    y=y_train,\n",
    "    validation_data=(X_test, y_test),\n",
    "    batch_size=100,\n",
    "    epochs=20)"
   ]
  },
  {
   "cell_type": "code",
   "execution_count": 36,
   "metadata": {
    "ExecuteTime": {
     "end_time": "2020-07-23T17:39:51.427117Z",
     "start_time": "2020-07-23T17:39:34.585275Z"
    }
   },
   "outputs": [],
   "source": [
    "model.save('model/word2vec_lstm_model.h5')"
   ]
  },
  {
   "cell_type": "code",
   "execution_count": 27,
   "metadata": {
    "ExecuteTime": {
     "end_time": "2020-07-24T05:29:39.478739Z",
     "start_time": "2020-07-24T05:28:28.407614Z"
    }
   },
   "outputs": [
    {
     "name": "stdout",
     "output_type": "stream",
     "text": [
      "WARNING:tensorflow:From C:\\Users\\taimu\\Anaconda3\\lib\\site-packages\\tensorflow\\python\\ops\\resource_variable_ops.py:435: colocate_with (from tensorflow.python.framework.ops) is deprecated and will be removed in a future version.\n",
      "Instructions for updating:\n",
      "Colocations handled automatically by placer.\n",
      "WARNING:tensorflow:From C:\\Users\\taimu\\Anaconda3\\lib\\site-packages\\tensorflow\\python\\keras\\backend.py:4010: calling dropout (from tensorflow.python.ops.nn_ops) with keep_prob is deprecated and will be removed in a future version.\n",
      "Instructions for updating:\n",
      "Please use `rate` instead of `keep_prob`. Rate should be set to `rate = 1 - keep_prob`.\n",
      "WARNING:tensorflow:From C:\\Users\\taimu\\Anaconda3\\lib\\site-packages\\tensorflow\\python\\ops\\math_ops.py:3066: to_int32 (from tensorflow.python.ops.math_ops) is deprecated and will be removed in a future version.\n",
      "Instructions for updating:\n",
      "Use tf.cast instead.\n"
     ]
    }
   ],
   "source": [
    "word2vec_lstm_model = load_model('model/word2vec_lstm_model.h5')"
   ]
  },
  {
   "cell_type": "code",
   "execution_count": 28,
   "metadata": {
    "ExecuteTime": {
     "end_time": "2020-07-24T05:36:40.240680Z",
     "start_time": "2020-07-24T05:29:39.480571Z"
    }
   },
   "outputs": [
    {
     "name": "stdout",
     "output_type": "stream",
     "text": [
      "Wall time: 7min\n"
     ]
    }
   ],
   "source": [
    "%%time\n",
    "y_train_pred = word2vec_lstm_model.predict_classes(X_train)\n",
    "y_test_pred = word2vec_lstm_model.predict_classes(X_test)"
   ]
  },
  {
   "cell_type": "code",
   "execution_count": 31,
   "metadata": {
    "ExecuteTime": {
     "end_time": "2020-07-24T05:52:53.567750Z",
     "start_time": "2020-07-24T05:52:48.920825Z"
    }
   },
   "outputs": [
    {
     "data": {
      "image/png": "[encoded data removed]",
      "text/plain": [
       "<Figure size 1008x288 with 2 Axes>"
      ]
     },
     "metadata": {
      "needs_background": "light"
     },
     "output_type": "display_data"
    }
   ],
   "source": [
    "fig, (axis1, axis2) = plt.subplots(nrows=1, ncols=2)\n",
    "plot_confusion_matrix(y_train, y_train_pred, ax=axis1,\n",
    "                      title='Confusion matrix (train data)',\n",
    "                      class_names=['Positive', 'Negative'])\n",
    "plot_confusion_matrix(y_test, y_test_pred, ax=axis2,\n",
    "                      title='Confusion matrix (test data)',\n",
    "                      class_names=['Positive', 'Negative'])"
   ]
  },
  {
   "cell_type": "code",
   "execution_count": 39,
   "metadata": {
    "ExecuteTime": {
     "end_time": "2020-07-24T10:28:53.255327Z",
     "start_time": "2020-07-24T10:28:53.227863Z"
    },
    "code_folding": [
     0
    ]
   },
   "outputs": [],
   "source": [
    "# Accuracy and Loss Fractuation\n",
    "fig, (axis1, axis2) = plt.subplots(nrows=1, ncols=2, figsize=(16,6))\n",
    "# summarize history for accuracy\n",
    "axis1.plot(history.history['acc'], label='Train', linewidth=3)\n",
    "axis1.plot(history.history['val_acc'], label='Validation', linewidth=3)\n",
    "axis1.set_title('Model accuracy', fontsize=16)\n",
    "axis1.set_ylabel('accuracy')\n",
    "axis1.set_xlabel('epoch')\n",
    "axis1.legend(loc='upper left')\n",
    "\n",
    "# summarize history for loss\n",
    "axis2.plot(history.history['loss'], label='Train', linewidth=3)\n",
    "axis2.plot(history.history['val_loss'], label='Validation', linewidth=3)\n",
    "axis2.set_title('Model loss', fontsize=16)\n",
    "axis2.set_ylabel('loss')\n",
    "axis2.set_xlabel('epoch')\n",
    "axis2.legend(loc='upper right')\n",
    "plt.show()"
   ]
  },
  {
   "cell_type": "code",
   "execution_count": 33,
   "metadata": {
    "ExecuteTime": {
     "end_time": "2020-07-24T09:05:18.094876Z",
     "start_time": "2020-07-24T05:53:14.737930Z"
    }
   },
   "outputs": [
    {
     "name": "stdout",
     "output_type": "stream",
     "text": [
      "Convert sentences to sentences with ngrams... (done)\n",
      "Vectorize sentences... (done)\n",
      "Transform sentences to sequences... (done)\n"
     ]
    }
   ],
   "source": [
    "print('Convert sentences to sentences with ngrams...', end='\\r')\n",
    "X_submit = trigrams[bigrams[all_reviews[75000:100000]]]\n",
    "print('Convert sentences to sentences with ngrams... (done)')\n",
    "X_sub = pad_sequences(\n",
    "    sequences=vectorize_data(X_submit, vocab=trigrams_model.wv.vocab),\n",
    "    maxlen=input_length,\n",
    "    padding='post')\n",
    "print('Transform sentences to sequences... (done)')"
   ]
  },
  {
   "cell_type": "code",
   "execution_count": 34,
   "metadata": {
    "ExecuteTime": {
     "end_time": "2020-07-24T09:08:06.903060Z",
     "start_time": "2020-07-24T09:05:18.266300Z"
    }
   },
   "outputs": [
    {
     "name": "stdout",
     "output_type": "stream",
     "text": [
      "Wall time: 2min 47s\n",
      "Parser   : 266 ms\n"
     ]
    }
   ],
   "source": [
    "%%time\n",
    "Y_sub_pred = word2vec_lstm_model.predict_classes(X_sub)"
   ]
  },
  {
   "cell_type": "code",
   "execution_count": 35,
   "metadata": {
    "ExecuteTime": {
     "end_time": "2020-07-24T09:08:10.231254Z",
     "start_time": "2020-07-24T09:08:06.906051Z"
    }
   },
   "outputs": [],
   "source": [
    "def submit(predictions):\n",
    "    test_data['sentiment'] = predictions\n",
    "    test_data.to_csv('submission.csv', index=False, columns=['id','sentiment'])\n",
    "\n",
    "submit(Y_sub_pred)"
   ]
  },
  {
   "cell_type": "code",
   "execution_count": 36,
   "metadata": {
    "ExecuteTime": {
     "end_time": "2020-07-24T10:21:11.094128Z",
     "start_time": "2020-07-24T10:21:07.875949Z"
    }
   },
   "outputs": [
    {
     "data": {
      "text/html": [
       "<div>\n",
       "<style scoped>\n",
       "    .dataframe tbody tr th:only-of-type {\n",
       "        vertical-align: middle;\n",
       "    }\n",
       "\n",
       "    .dataframe tbody tr th {\n",
       "        vertical-align: top;\n",
       "    }\n",
       "\n",
       "    .dataframe thead th {\n",
       "        text-align: right;\n",
       "    }\n",
       "</style>\n",
       "<table border=\"1\" class=\"dataframe\">\n",
       "  <thead>\n",
       "    <tr style=\"text-align: right;\">\n",
       "      <th></th>\n",
       "      <th>id</th>\n",
       "      <th>review</th>\n",
       "      <th>sentiment</th>\n",
       "    </tr>\n",
       "  </thead>\n",
       "  <tbody>\n",
       "    <tr>\n",
       "      <th>0</th>\n",
       "      <td>12311_10</td>\n",
       "      <td>Naturally in a film who's main themes are of m...</td>\n",
       "      <td>1</td>\n",
       "    </tr>\n",
       "    <tr>\n",
       "      <th>1</th>\n",
       "      <td>8348_2</td>\n",
       "      <td>This movie is a disaster within a disaster fil...</td>\n",
       "      <td>1</td>\n",
       "    </tr>\n",
       "    <tr>\n",
       "      <th>2</th>\n",
       "      <td>5828_4</td>\n",
       "      <td>All in all, this is a movie for kids. We saw i...</td>\n",
       "      <td>1</td>\n",
       "    </tr>\n",
       "    <tr>\n",
       "      <th>3</th>\n",
       "      <td>7186_2</td>\n",
       "      <td>Afraid of the Dark left me with the impression...</td>\n",
       "      <td>1</td>\n",
       "    </tr>\n",
       "    <tr>\n",
       "      <th>4</th>\n",
       "      <td>12128_7</td>\n",
       "      <td>A very accurate depiction of small time mob li...</td>\n",
       "      <td>1</td>\n",
       "    </tr>\n",
       "    <tr>\n",
       "      <th>5</th>\n",
       "      <td>2913_8</td>\n",
       "      <td>...as valuable as King Tut's tomb! (OK, maybe ...</td>\n",
       "      <td>1</td>\n",
       "    </tr>\n",
       "    <tr>\n",
       "      <th>6</th>\n",
       "      <td>4396_1</td>\n",
       "      <td>This has to be one of the biggest misfires eve...</td>\n",
       "      <td>1</td>\n",
       "    </tr>\n",
       "    <tr>\n",
       "      <th>7</th>\n",
       "      <td>395_2</td>\n",
       "      <td>This is one of those movies I watched, and won...</td>\n",
       "      <td>1</td>\n",
       "    </tr>\n",
       "    <tr>\n",
       "      <th>8</th>\n",
       "      <td>10616_1</td>\n",
       "      <td>The worst movie i've seen in years (and i've s...</td>\n",
       "      <td>1</td>\n",
       "    </tr>\n",
       "    <tr>\n",
       "      <th>9</th>\n",
       "      <td>9074_9</td>\n",
       "      <td>Five medical students (Kevin Bacon, David Labr...</td>\n",
       "      <td>1</td>\n",
       "    </tr>\n",
       "    <tr>\n",
       "      <th>10</th>\n",
       "      <td>9252_3</td>\n",
       "      <td>'The Mill on the Floss' was one of the lesser ...</td>\n",
       "      <td>1</td>\n",
       "    </tr>\n",
       "    <tr>\n",
       "      <th>11</th>\n",
       "      <td>9896_9</td>\n",
       "      <td>I just saw this film at the phoenix film festi...</td>\n",
       "      <td>0</td>\n",
       "    </tr>\n",
       "    <tr>\n",
       "      <th>12</th>\n",
       "      <td>574_4</td>\n",
       "      <td>\\The Love Letter\\\" is one of those movies that...</td>\n",
       "      <td>1</td>\n",
       "    </tr>\n",
       "    <tr>\n",
       "      <th>13</th>\n",
       "      <td>11182_8</td>\n",
       "      <td>Another fantastic offering from the Monkey Isl...</td>\n",
       "      <td>1</td>\n",
       "    </tr>\n",
       "    <tr>\n",
       "      <th>14</th>\n",
       "      <td>11656_4</td>\n",
       "      <td>This was included on the disk \\Shorts: Volume ...</td>\n",
       "      <td>1</td>\n",
       "    </tr>\n",
       "    <tr>\n",
       "      <th>15</th>\n",
       "      <td>2322_4</td>\n",
       "      <td>I'm not really much of an Abbott &amp; Costello fa...</td>\n",
       "      <td>1</td>\n",
       "    </tr>\n",
       "    <tr>\n",
       "      <th>16</th>\n",
       "      <td>8703_1</td>\n",
       "      <td>This movie was dreadful. Biblically very inacc...</td>\n",
       "      <td>0</td>\n",
       "    </tr>\n",
       "    <tr>\n",
       "      <th>17</th>\n",
       "      <td>7483_1</td>\n",
       "      <td>I don't think I've ever gave something a 1/10 ...</td>\n",
       "      <td>1</td>\n",
       "    </tr>\n",
       "    <tr>\n",
       "      <th>18</th>\n",
       "      <td>6007_10</td>\n",
       "      <td>Excellent story-telling and cinematography. Po...</td>\n",
       "      <td>1</td>\n",
       "    </tr>\n",
       "    <tr>\n",
       "      <th>19</th>\n",
       "      <td>12424_4</td>\n",
       "      <td>I completely forgot that I'd seen this within ...</td>\n",
       "      <td>1</td>\n",
       "    </tr>\n",
       "    <tr>\n",
       "      <th>20</th>\n",
       "      <td>4672_1</td>\n",
       "      <td>I like action movies. I have a softspot for \\B...</td>\n",
       "      <td>1</td>\n",
       "    </tr>\n",
       "    <tr>\n",
       "      <th>21</th>\n",
       "      <td>10841_3</td>\n",
       "      <td>This is one of the worst Sandra Bullock movie ...</td>\n",
       "      <td>1</td>\n",
       "    </tr>\n",
       "    <tr>\n",
       "      <th>22</th>\n",
       "      <td>8954_7</td>\n",
       "      <td>Watched this flick on Saturday afternoon cable...</td>\n",
       "      <td>0</td>\n",
       "    </tr>\n",
       "    <tr>\n",
       "      <th>23</th>\n",
       "      <td>7392_1</td>\n",
       "      <td>I went to see \\TKIA\\\" with high expectations, ...</td>\n",
       "      <td>1</td>\n",
       "    </tr>\n",
       "    <tr>\n",
       "      <th>24</th>\n",
       "      <td>10288_8</td>\n",
       "      <td>All credit to writer/director Gilles Mimouni w...</td>\n",
       "      <td>1</td>\n",
       "    </tr>\n",
       "    <tr>\n",
       "      <th>25</th>\n",
       "      <td>5343_4</td>\n",
       "      <td>As a writing teacher, there are two ending I n...</td>\n",
       "      <td>0</td>\n",
       "    </tr>\n",
       "    <tr>\n",
       "      <th>26</th>\n",
       "      <td>4950_1</td>\n",
       "      <td>I don't know why this has gotten any decent re...</td>\n",
       "      <td>1</td>\n",
       "    </tr>\n",
       "    <tr>\n",
       "      <th>27</th>\n",
       "      <td>9257_4</td>\n",
       "      <td>This film was released in the UK under the nam...</td>\n",
       "      <td>1</td>\n",
       "    </tr>\n",
       "    <tr>\n",
       "      <th>28</th>\n",
       "      <td>8689_3</td>\n",
       "      <td>Uncle Fred Olen Ray once again gives us a litt...</td>\n",
       "      <td>1</td>\n",
       "    </tr>\n",
       "    <tr>\n",
       "      <th>29</th>\n",
       "      <td>4480_2</td>\n",
       "      <td>OK, it's watchable if you are sick in bed or h...</td>\n",
       "      <td>1</td>\n",
       "    </tr>\n",
       "    <tr>\n",
       "      <th>...</th>\n",
       "      <td>...</td>\n",
       "      <td>...</td>\n",
       "      <td>...</td>\n",
       "    </tr>\n",
       "    <tr>\n",
       "      <th>24970</th>\n",
       "      <td>6857_10</td>\n",
       "      <td>With \\Anatomy\\\" the german film producers have...</td>\n",
       "      <td>0</td>\n",
       "    </tr>\n",
       "    <tr>\n",
       "      <th>24971</th>\n",
       "      <td>11091_8</td>\n",
       "      <td>This movie is one of my all-time favorites. I ...</td>\n",
       "      <td>1</td>\n",
       "    </tr>\n",
       "    <tr>\n",
       "      <th>24972</th>\n",
       "      <td>4167_2</td>\n",
       "      <td>I found Code 46 very disappointing. I thought ...</td>\n",
       "      <td>1</td>\n",
       "    </tr>\n",
       "    <tr>\n",
       "      <th>24973</th>\n",
       "      <td>679_4</td>\n",
       "      <td>Tamara Anderson and her family are moving once...</td>\n",
       "      <td>0</td>\n",
       "    </tr>\n",
       "    <tr>\n",
       "      <th>24974</th>\n",
       "      <td>10147_1</td>\n",
       "      <td>Now I've seen it all. Just when I thought it c...</td>\n",
       "      <td>1</td>\n",
       "    </tr>\n",
       "    <tr>\n",
       "      <th>24975</th>\n",
       "      <td>6875_1</td>\n",
       "      <td>In this movie everything possible was wrong an...</td>\n",
       "      <td>1</td>\n",
       "    </tr>\n",
       "    <tr>\n",
       "      <th>24976</th>\n",
       "      <td>923_10</td>\n",
       "      <td>Well every scene so perfectly presented. Never...</td>\n",
       "      <td>1</td>\n",
       "    </tr>\n",
       "    <tr>\n",
       "      <th>24977</th>\n",
       "      <td>6200_8</td>\n",
       "      <td>Sleeper Cell is what 24 should have been. 24 i...</td>\n",
       "      <td>0</td>\n",
       "    </tr>\n",
       "    <tr>\n",
       "      <th>24978</th>\n",
       "      <td>7208_8</td>\n",
       "      <td>Not for everyone, but I really like it. Nice e...</td>\n",
       "      <td>1</td>\n",
       "    </tr>\n",
       "    <tr>\n",
       "      <th>24979</th>\n",
       "      <td>5363_8</td>\n",
       "      <td>Set just before the Second World War, this is ...</td>\n",
       "      <td>0</td>\n",
       "    </tr>\n",
       "    <tr>\n",
       "      <th>24980</th>\n",
       "      <td>4067_8</td>\n",
       "      <td>Contains Spoiler The movie is a good action/co...</td>\n",
       "      <td>1</td>\n",
       "    </tr>\n",
       "    <tr>\n",
       "      <th>24981</th>\n",
       "      <td>1773_7</td>\n",
       "      <td>This is one of several period sea-faring yarns...</td>\n",
       "      <td>1</td>\n",
       "    </tr>\n",
       "    <tr>\n",
       "      <th>24982</th>\n",
       "      <td>1498_10</td>\n",
       "      <td>Hearkening back to those \\Good Old Days\\\" of 1...</td>\n",
       "      <td>1</td>\n",
       "    </tr>\n",
       "    <tr>\n",
       "      <th>24983</th>\n",
       "      <td>10497_10</td>\n",
       "      <td>I thought this to be a pretty good example of ...</td>\n",
       "      <td>1</td>\n",
       "    </tr>\n",
       "    <tr>\n",
       "      <th>24984</th>\n",
       "      <td>3444_10</td>\n",
       "      <td>Seeing this film, or rather set of films, in m...</td>\n",
       "      <td>1</td>\n",
       "    </tr>\n",
       "    <tr>\n",
       "      <th>24985</th>\n",
       "      <td>588_2</td>\n",
       "      <td>I didn't like this movie for many reasons - VE...</td>\n",
       "      <td>1</td>\n",
       "    </tr>\n",
       "    <tr>\n",
       "      <th>24986</th>\n",
       "      <td>9678_9</td>\n",
       "      <td>I absolutely love this show!!!!!!!, Its basica...</td>\n",
       "      <td>0</td>\n",
       "    </tr>\n",
       "    <tr>\n",
       "      <th>24987</th>\n",
       "      <td>1983_9</td>\n",
       "      <td>eXistenZ combines director David Cronenberg's ...</td>\n",
       "      <td>1</td>\n",
       "    </tr>\n",
       "    <tr>\n",
       "      <th>24988</th>\n",
       "      <td>5012_3</td>\n",
       "      <td>this movie is allegedly a comedy.so where did ...</td>\n",
       "      <td>1</td>\n",
       "    </tr>\n",
       "    <tr>\n",
       "      <th>24989</th>\n",
       "      <td>12240_2</td>\n",
       "      <td>The Comebacks is a spoof on inspirational spor...</td>\n",
       "      <td>1</td>\n",
       "    </tr>\n",
       "    <tr>\n",
       "      <th>24990</th>\n",
       "      <td>5071_2</td>\n",
       "      <td>I'd love to write a little summary of this mov...</td>\n",
       "      <td>0</td>\n",
       "    </tr>\n",
       "    <tr>\n",
       "      <th>24991</th>\n",
       "      <td>5078_2</td>\n",
       "      <td>Obvious tailored vehicle for Ryan Philippe. It...</td>\n",
       "      <td>1</td>\n",
       "    </tr>\n",
       "    <tr>\n",
       "      <th>24992</th>\n",
       "      <td>10069_3</td>\n",
       "      <td>&lt;br /&gt;&lt;br /&gt;JURASSIC PARK III *___ Adventure &lt;...</td>\n",
       "      <td>1</td>\n",
       "    </tr>\n",
       "    <tr>\n",
       "      <th>24993</th>\n",
       "      <td>7407_8</td>\n",
       "      <td>If you're even mildly interested in the War be...</td>\n",
       "      <td>1</td>\n",
       "    </tr>\n",
       "    <tr>\n",
       "      <th>24994</th>\n",
       "      <td>7207_1</td>\n",
       "      <td>It used to be that video distributors like Sub...</td>\n",
       "      <td>1</td>\n",
       "    </tr>\n",
       "    <tr>\n",
       "      <th>24995</th>\n",
       "      <td>2155_10</td>\n",
       "      <td>Sony Pictures Classics, I'm looking at you! So...</td>\n",
       "      <td>1</td>\n",
       "    </tr>\n",
       "    <tr>\n",
       "      <th>24996</th>\n",
       "      <td>59_10</td>\n",
       "      <td>I always felt that Ms. Merkerson had never got...</td>\n",
       "      <td>1</td>\n",
       "    </tr>\n",
       "    <tr>\n",
       "      <th>24997</th>\n",
       "      <td>2531_1</td>\n",
       "      <td>I was so disappointed in this movie. I am very...</td>\n",
       "      <td>1</td>\n",
       "    </tr>\n",
       "    <tr>\n",
       "      <th>24998</th>\n",
       "      <td>7772_8</td>\n",
       "      <td>From the opening sequence, filled with black a...</td>\n",
       "      <td>1</td>\n",
       "    </tr>\n",
       "    <tr>\n",
       "      <th>24999</th>\n",
       "      <td>11465_10</td>\n",
       "      <td>This is a great horror film for people who don...</td>\n",
       "      <td>1</td>\n",
       "    </tr>\n",
       "  </tbody>\n",
       "</table>\n",
       "<p>25000 rows × 3 columns</p>\n",
       "</div>"
      ],
      "text/plain": [
       "             id                                             review  sentiment\n",
       "0      12311_10  Naturally in a film who's main themes are of m...          1\n",
       "1        8348_2  This movie is a disaster within a disaster fil...          1\n",
       "2        5828_4  All in all, this is a movie for kids. We saw i...          1\n",
       "3        7186_2  Afraid of the Dark left me with the impression...          1\n",
       "4       12128_7  A very accurate depiction of small time mob li...          1\n",
       "5        2913_8  ...as valuable as King Tut's tomb! (OK, maybe ...          1\n",
       "6        4396_1  This has to be one of the biggest misfires eve...          1\n",
       "7         395_2  This is one of those movies I watched, and won...          1\n",
       "8       10616_1  The worst movie i've seen in years (and i've s...          1\n",
       "9        9074_9  Five medical students (Kevin Bacon, David Labr...          1\n",
       "10       9252_3  'The Mill on the Floss' was one of the lesser ...          1\n",
       "11       9896_9  I just saw this film at the phoenix film festi...          0\n",
       "12        574_4  \\The Love Letter\\\" is one of those movies that...          1\n",
       "13      11182_8  Another fantastic offering from the Monkey Isl...          1\n",
       "14      11656_4  This was included on the disk \\Shorts: Volume ...          1\n",
       "15       2322_4  I'm not really much of an Abbott & Costello fa...          1\n",
       "16       8703_1  This movie was dreadful. Biblically very inacc...          0\n",
       "17       7483_1  I don't think I've ever gave something a 1/10 ...          1\n",
       "18      6007_10  Excellent story-telling and cinematography. Po...          1\n",
       "19      12424_4  I completely forgot that I'd seen this within ...          1\n",
       "20       4672_1  I like action movies. I have a softspot for \\B...          1\n",
       "21      10841_3  This is one of the worst Sandra Bullock movie ...          1\n",
       "22       8954_7  Watched this flick on Saturday afternoon cable...          0\n",
       "23       7392_1  I went to see \\TKIA\\\" with high expectations, ...          1\n",
       "24      10288_8  All credit to writer/director Gilles Mimouni w...          1\n",
       "25       5343_4  As a writing teacher, there are two ending I n...          0\n",
       "26       4950_1  I don't know why this has gotten any decent re...          1\n",
       "27       9257_4  This film was released in the UK under the nam...          1\n",
       "28       8689_3  Uncle Fred Olen Ray once again gives us a litt...          1\n",
       "29       4480_2  OK, it's watchable if you are sick in bed or h...          1\n",
       "...         ...                                                ...        ...\n",
       "24970   6857_10  With \\Anatomy\\\" the german film producers have...          0\n",
       "24971   11091_8  This movie is one of my all-time favorites. I ...          1\n",
       "24972    4167_2  I found Code 46 very disappointing. I thought ...          1\n",
       "24973     679_4  Tamara Anderson and her family are moving once...          0\n",
       "24974   10147_1  Now I've seen it all. Just when I thought it c...          1\n",
       "24975    6875_1  In this movie everything possible was wrong an...          1\n",
       "24976    923_10  Well every scene so perfectly presented. Never...          1\n",
       "24977    6200_8  Sleeper Cell is what 24 should have been. 24 i...          0\n",
       "24978    7208_8  Not for everyone, but I really like it. Nice e...          1\n",
       "24979    5363_8  Set just before the Second World War, this is ...          0\n",
       "24980    4067_8  Contains Spoiler The movie is a good action/co...          1\n",
       "24981    1773_7  This is one of several period sea-faring yarns...          1\n",
       "24982   1498_10  Hearkening back to those \\Good Old Days\\\" of 1...          1\n",
       "24983  10497_10  I thought this to be a pretty good example of ...          1\n",
       "24984   3444_10  Seeing this film, or rather set of films, in m...          1\n",
       "24985     588_2  I didn't like this movie for many reasons - VE...          1\n",
       "24986    9678_9  I absolutely love this show!!!!!!!, Its basica...          0\n",
       "24987    1983_9  eXistenZ combines director David Cronenberg's ...          1\n",
       "24988    5012_3  this movie is allegedly a comedy.so where did ...          1\n",
       "24989   12240_2  The Comebacks is a spoof on inspirational spor...          1\n",
       "24990    5071_2  I'd love to write a little summary of this mov...          0\n",
       "24991    5078_2  Obvious tailored vehicle for Ryan Philippe. It...          1\n",
       "24992   10069_3  <br /><br />JURASSIC PARK III *___ Adventure <...          1\n",
       "24993    7407_8  If you're even mildly interested in the War be...          1\n",
       "24994    7207_1  It used to be that video distributors like Sub...          1\n",
       "24995   2155_10  Sony Pictures Classics, I'm looking at you! So...          1\n",
       "24996     59_10  I always felt that Ms. Merkerson had never got...          1\n",
       "24997    2531_1  I was so disappointed in this movie. I am very...          1\n",
       "24998    7772_8  From the opening sequence, filled with black a...          1\n",
       "24999  11465_10  This is a great horror film for people who don...          1\n",
       "\n",
       "[25000 rows x 3 columns]"
      ]
     },
     "execution_count": 36,
     "metadata": {},
     "output_type": "execute_result"
    }
   ],
   "source": [
    "test_data"
   ]
  },
  {
   "cell_type": "code",
   "execution_count": 38,
   "metadata": {
    "ExecuteTime": {
     "end_time": "2020-07-24T10:27:10.688965Z",
     "start_time": "2020-07-24T10:27:10.358304Z"
    }
   },
   "outputs": [
    {
     "data": {
      "text/html": [
       "<div>\n",
       "<style scoped>\n",
       "    .dataframe tbody tr th:only-of-type {\n",
       "        vertical-align: middle;\n",
       "    }\n",
       "\n",
       "    .dataframe tbody tr th {\n",
       "        vertical-align: top;\n",
       "    }\n",
       "\n",
       "    .dataframe thead th {\n",
       "        text-align: right;\n",
       "    }\n",
       "</style>\n",
       "<table border=\"1\" class=\"dataframe\">\n",
       "  <thead>\n",
       "    <tr style=\"text-align: right;\">\n",
       "      <th></th>\n",
       "      <th>id</th>\n",
       "      <th>review</th>\n",
       "      <th>sentiment</th>\n",
       "    </tr>\n",
       "  </thead>\n",
       "  <tbody>\n",
       "    <tr>\n",
       "      <th>0</th>\n",
       "      <td>12311_10</td>\n",
       "      <td>Naturally in a film who's main themes are of m...</td>\n",
       "      <td>1</td>\n",
       "    </tr>\n",
       "    <tr>\n",
       "      <th>1</th>\n",
       "      <td>8348_2</td>\n",
       "      <td>This movie is a disaster within a disaster fil...</td>\n",
       "      <td>1</td>\n",
       "    </tr>\n",
       "    <tr>\n",
       "      <th>2</th>\n",
       "      <td>5828_4</td>\n",
       "      <td>All in all, this is a movie for kids. We saw i...</td>\n",
       "      <td>1</td>\n",
       "    </tr>\n",
       "    <tr>\n",
       "      <th>3</th>\n",
       "      <td>7186_2</td>\n",
       "      <td>Afraid of the Dark left me with the impression...</td>\n",
       "      <td>1</td>\n",
       "    </tr>\n",
       "    <tr>\n",
       "      <th>4</th>\n",
       "      <td>12128_7</td>\n",
       "      <td>A very accurate depiction of small time mob li...</td>\n",
       "      <td>1</td>\n",
       "    </tr>\n",
       "    <tr>\n",
       "      <th>5</th>\n",
       "      <td>2913_8</td>\n",
       "      <td>...as valuable as King Tut's tomb! (OK, maybe ...</td>\n",
       "      <td>1</td>\n",
       "    </tr>\n",
       "    <tr>\n",
       "      <th>6</th>\n",
       "      <td>4396_1</td>\n",
       "      <td>This has to be one of the biggest misfires eve...</td>\n",
       "      <td>1</td>\n",
       "    </tr>\n",
       "    <tr>\n",
       "      <th>7</th>\n",
       "      <td>395_2</td>\n",
       "      <td>This is one of those movies I watched, and won...</td>\n",
       "      <td>1</td>\n",
       "    </tr>\n",
       "    <tr>\n",
       "      <th>8</th>\n",
       "      <td>10616_1</td>\n",
       "      <td>The worst movie i've seen in years (and i've s...</td>\n",
       "      <td>1</td>\n",
       "    </tr>\n",
       "    <tr>\n",
       "      <th>9</th>\n",
       "      <td>9074_9</td>\n",
       "      <td>Five medical students (Kevin Bacon, David Labr...</td>\n",
       "      <td>1</td>\n",
       "    </tr>\n",
       "    <tr>\n",
       "      <th>10</th>\n",
       "      <td>9252_3</td>\n",
       "      <td>'The Mill on the Floss' was one of the lesser ...</td>\n",
       "      <td>1</td>\n",
       "    </tr>\n",
       "    <tr>\n",
       "      <th>11</th>\n",
       "      <td>9896_9</td>\n",
       "      <td>I just saw this film at the phoenix film festi...</td>\n",
       "      <td>0</td>\n",
       "    </tr>\n",
       "    <tr>\n",
       "      <th>12</th>\n",
       "      <td>574_4</td>\n",
       "      <td>\\The Love Letter\\\" is one of those movies that...</td>\n",
       "      <td>1</td>\n",
       "    </tr>\n",
       "    <tr>\n",
       "      <th>13</th>\n",
       "      <td>11182_8</td>\n",
       "      <td>Another fantastic offering from the Monkey Isl...</td>\n",
       "      <td>1</td>\n",
       "    </tr>\n",
       "    <tr>\n",
       "      <th>14</th>\n",
       "      <td>11656_4</td>\n",
       "      <td>This was included on the disk \\Shorts: Volume ...</td>\n",
       "      <td>1</td>\n",
       "    </tr>\n",
       "    <tr>\n",
       "      <th>15</th>\n",
       "      <td>2322_4</td>\n",
       "      <td>I'm not really much of an Abbott &amp; Costello fa...</td>\n",
       "      <td>1</td>\n",
       "    </tr>\n",
       "    <tr>\n",
       "      <th>16</th>\n",
       "      <td>8703_1</td>\n",
       "      <td>This movie was dreadful. Biblically very inacc...</td>\n",
       "      <td>0</td>\n",
       "    </tr>\n",
       "    <tr>\n",
       "      <th>17</th>\n",
       "      <td>7483_1</td>\n",
       "      <td>I don't think I've ever gave something a 1/10 ...</td>\n",
       "      <td>1</td>\n",
       "    </tr>\n",
       "    <tr>\n",
       "      <th>18</th>\n",
       "      <td>6007_10</td>\n",
       "      <td>Excellent story-telling and cinematography. Po...</td>\n",
       "      <td>1</td>\n",
       "    </tr>\n",
       "    <tr>\n",
       "      <th>19</th>\n",
       "      <td>12424_4</td>\n",
       "      <td>I completely forgot that I'd seen this within ...</td>\n",
       "      <td>1</td>\n",
       "    </tr>\n",
       "    <tr>\n",
       "      <th>20</th>\n",
       "      <td>4672_1</td>\n",
       "      <td>I like action movies. I have a softspot for \\B...</td>\n",
       "      <td>1</td>\n",
       "    </tr>\n",
       "    <tr>\n",
       "      <th>21</th>\n",
       "      <td>10841_3</td>\n",
       "      <td>This is one of the worst Sandra Bullock movie ...</td>\n",
       "      <td>1</td>\n",
       "    </tr>\n",
       "    <tr>\n",
       "      <th>22</th>\n",
       "      <td>8954_7</td>\n",
       "      <td>Watched this flick on Saturday afternoon cable...</td>\n",
       "      <td>0</td>\n",
       "    </tr>\n",
       "    <tr>\n",
       "      <th>23</th>\n",
       "      <td>7392_1</td>\n",
       "      <td>I went to see \\TKIA\\\" with high expectations, ...</td>\n",
       "      <td>1</td>\n",
       "    </tr>\n",
       "    <tr>\n",
       "      <th>24</th>\n",
       "      <td>10288_8</td>\n",
       "      <td>All credit to writer/director Gilles Mimouni w...</td>\n",
       "      <td>1</td>\n",
       "    </tr>\n",
       "    <tr>\n",
       "      <th>25</th>\n",
       "      <td>5343_4</td>\n",
       "      <td>As a writing teacher, there are two ending I n...</td>\n",
       "      <td>0</td>\n",
       "    </tr>\n",
       "    <tr>\n",
       "      <th>26</th>\n",
       "      <td>4950_1</td>\n",
       "      <td>I don't know why this has gotten any decent re...</td>\n",
       "      <td>1</td>\n",
       "    </tr>\n",
       "    <tr>\n",
       "      <th>27</th>\n",
       "      <td>9257_4</td>\n",
       "      <td>This film was released in the UK under the nam...</td>\n",
       "      <td>1</td>\n",
       "    </tr>\n",
       "    <tr>\n",
       "      <th>28</th>\n",
       "      <td>8689_3</td>\n",
       "      <td>Uncle Fred Olen Ray once again gives us a litt...</td>\n",
       "      <td>1</td>\n",
       "    </tr>\n",
       "    <tr>\n",
       "      <th>29</th>\n",
       "      <td>4480_2</td>\n",
       "      <td>OK, it's watchable if you are sick in bed or h...</td>\n",
       "      <td>1</td>\n",
       "    </tr>\n",
       "    <tr>\n",
       "      <th>...</th>\n",
       "      <td>...</td>\n",
       "      <td>...</td>\n",
       "      <td>...</td>\n",
       "    </tr>\n",
       "    <tr>\n",
       "      <th>24970</th>\n",
       "      <td>6857_10</td>\n",
       "      <td>With \\Anatomy\\\" the german film producers have...</td>\n",
       "      <td>0</td>\n",
       "    </tr>\n",
       "    <tr>\n",
       "      <th>24971</th>\n",
       "      <td>11091_8</td>\n",
       "      <td>This movie is one of my all-time favorites. I ...</td>\n",
       "      <td>1</td>\n",
       "    </tr>\n",
       "    <tr>\n",
       "      <th>24972</th>\n",
       "      <td>4167_2</td>\n",
       "      <td>I found Code 46 very disappointing. I thought ...</td>\n",
       "      <td>1</td>\n",
       "    </tr>\n",
       "    <tr>\n",
       "      <th>24973</th>\n",
       "      <td>679_4</td>\n",
       "      <td>Tamara Anderson and her family are moving once...</td>\n",
       "      <td>0</td>\n",
       "    </tr>\n",
       "    <tr>\n",
       "      <th>24974</th>\n",
       "      <td>10147_1</td>\n",
       "      <td>Now I've seen it all. Just when I thought it c...</td>\n",
       "      <td>1</td>\n",
       "    </tr>\n",
       "    <tr>\n",
       "      <th>24975</th>\n",
       "      <td>6875_1</td>\n",
       "      <td>In this movie everything possible was wrong an...</td>\n",
       "      <td>1</td>\n",
       "    </tr>\n",
       "    <tr>\n",
       "      <th>24976</th>\n",
       "      <td>923_10</td>\n",
       "      <td>Well every scene so perfectly presented. Never...</td>\n",
       "      <td>1</td>\n",
       "    </tr>\n",
       "    <tr>\n",
       "      <th>24977</th>\n",
       "      <td>6200_8</td>\n",
       "      <td>Sleeper Cell is what 24 should have been. 24 i...</td>\n",
       "      <td>0</td>\n",
       "    </tr>\n",
       "    <tr>\n",
       "      <th>24978</th>\n",
       "      <td>7208_8</td>\n",
       "      <td>Not for everyone, but I really like it. Nice e...</td>\n",
       "      <td>1</td>\n",
       "    </tr>\n",
       "    <tr>\n",
       "      <th>24979</th>\n",
       "      <td>5363_8</td>\n",
       "      <td>Set just before the Second World War, this is ...</td>\n",
       "      <td>0</td>\n",
       "    </tr>\n",
       "    <tr>\n",
       "      <th>24980</th>\n",
       "      <td>4067_8</td>\n",
       "      <td>Contains Spoiler The movie is a good action/co...</td>\n",
       "      <td>1</td>\n",
       "    </tr>\n",
       "    <tr>\n",
       "      <th>24981</th>\n",
       "      <td>1773_7</td>\n",
       "      <td>This is one of several period sea-faring yarns...</td>\n",
       "      <td>1</td>\n",
       "    </tr>\n",
       "    <tr>\n",
       "      <th>24982</th>\n",
       "      <td>1498_10</td>\n",
       "      <td>Hearkening back to those \\Good Old Days\\\" of 1...</td>\n",
       "      <td>1</td>\n",
       "    </tr>\n",
       "    <tr>\n",
       "      <th>24983</th>\n",
       "      <td>10497_10</td>\n",
       "      <td>I thought this to be a pretty good example of ...</td>\n",
       "      <td>1</td>\n",
       "    </tr>\n",
       "    <tr>\n",
       "      <th>24984</th>\n",
       "      <td>3444_10</td>\n",
       "      <td>Seeing this film, or rather set of films, in m...</td>\n",
       "      <td>1</td>\n",
       "    </tr>\n",
       "    <tr>\n",
       "      <th>24985</th>\n",
       "      <td>588_2</td>\n",
       "      <td>I didn't like this movie for many reasons - VE...</td>\n",
       "      <td>1</td>\n",
       "    </tr>\n",
       "    <tr>\n",
       "      <th>24986</th>\n",
       "      <td>9678_9</td>\n",
       "      <td>I absolutely love this show!!!!!!!, Its basica...</td>\n",
       "      <td>0</td>\n",
       "    </tr>\n",
       "    <tr>\n",
       "      <th>24987</th>\n",
       "      <td>1983_9</td>\n",
       "      <td>eXistenZ combines director David Cronenberg's ...</td>\n",
       "      <td>1</td>\n",
       "    </tr>\n",
       "    <tr>\n",
       "      <th>24988</th>\n",
       "      <td>5012_3</td>\n",
       "      <td>this movie is allegedly a comedy.so where did ...</td>\n",
       "      <td>1</td>\n",
       "    </tr>\n",
       "    <tr>\n",
       "      <th>24989</th>\n",
       "      <td>12240_2</td>\n",
       "      <td>The Comebacks is a spoof on inspirational spor...</td>\n",
       "      <td>1</td>\n",
       "    </tr>\n",
       "    <tr>\n",
       "      <th>24990</th>\n",
       "      <td>5071_2</td>\n",
       "      <td>I'd love to write a little summary of this mov...</td>\n",
       "      <td>0</td>\n",
       "    </tr>\n",
       "    <tr>\n",
       "      <th>24991</th>\n",
       "      <td>5078_2</td>\n",
       "      <td>Obvious tailored vehicle for Ryan Philippe. It...</td>\n",
       "      <td>1</td>\n",
       "    </tr>\n",
       "    <tr>\n",
       "      <th>24992</th>\n",
       "      <td>10069_3</td>\n",
       "      <td>&lt;br /&gt;&lt;br /&gt;JURASSIC PARK III *___ Adventure &lt;...</td>\n",
       "      <td>1</td>\n",
       "    </tr>\n",
       "    <tr>\n",
       "      <th>24993</th>\n",
       "      <td>7407_8</td>\n",
       "      <td>If you're even mildly interested in the War be...</td>\n",
       "      <td>1</td>\n",
       "    </tr>\n",
       "    <tr>\n",
       "      <th>24994</th>\n",
       "      <td>7207_1</td>\n",
       "      <td>It used to be that video distributors like Sub...</td>\n",
       "      <td>1</td>\n",
       "    </tr>\n",
       "    <tr>\n",
       "      <th>24995</th>\n",
       "      <td>2155_10</td>\n",
       "      <td>Sony Pictures Classics, I'm looking at you! So...</td>\n",
       "      <td>1</td>\n",
       "    </tr>\n",
       "    <tr>\n",
       "      <th>24996</th>\n",
       "      <td>59_10</td>\n",
       "      <td>I always felt that Ms. Merkerson had never got...</td>\n",
       "      <td>1</td>\n",
       "    </tr>\n",
       "    <tr>\n",
       "      <th>24997</th>\n",
       "      <td>2531_1</td>\n",
       "      <td>I was so disappointed in this movie. I am very...</td>\n",
       "      <td>1</td>\n",
       "    </tr>\n",
       "    <tr>\n",
       "      <th>24998</th>\n",
       "      <td>7772_8</td>\n",
       "      <td>From the opening sequence, filled with black a...</td>\n",
       "      <td>1</td>\n",
       "    </tr>\n",
       "    <tr>\n",
       "      <th>24999</th>\n",
       "      <td>11465_10</td>\n",
       "      <td>This is a great horror film for people who don...</td>\n",
       "      <td>1</td>\n",
       "    </tr>\n",
       "  </tbody>\n",
       "</table>\n",
       "<p>25000 rows × 3 columns</p>\n",
       "</div>"
      ],
      "text/plain": [
       "             id                                             review  sentiment\n",
       "0      12311_10  Naturally in a film who's main themes are of m...          1\n",
       "1        8348_2  This movie is a disaster within a disaster fil...          1\n",
       "2        5828_4  All in all, this is a movie for kids. We saw i...          1\n",
       "3        7186_2  Afraid of the Dark left me with the impression...          1\n",
       "4       12128_7  A very accurate depiction of small time mob li...          1\n",
       "5        2913_8  ...as valuable as King Tut's tomb! (OK, maybe ...          1\n",
       "6        4396_1  This has to be one of the biggest misfires eve...          1\n",
       "7         395_2  This is one of those movies I watched, and won...          1\n",
       "8       10616_1  The worst movie i've seen in years (and i've s...          1\n",
       "9        9074_9  Five medical students (Kevin Bacon, David Labr...          1\n",
       "10       9252_3  'The Mill on the Floss' was one of the lesser ...          1\n",
       "11       9896_9  I just saw this film at the phoenix film festi...          0\n",
       "12        574_4  \\The Love Letter\\\" is one of those movies that...          1\n",
       "13      11182_8  Another fantastic offering from the Monkey Isl...          1\n",
       "14      11656_4  This was included on the disk \\Shorts: Volume ...          1\n",
       "15       2322_4  I'm not really much of an Abbott & Costello fa...          1\n",
       "16       8703_1  This movie was dreadful. Biblically very inacc...          0\n",
       "17       7483_1  I don't think I've ever gave something a 1/10 ...          1\n",
       "18      6007_10  Excellent story-telling and cinematography. Po...          1\n",
       "19      12424_4  I completely forgot that I'd seen this within ...          1\n",
       "20       4672_1  I like action movies. I have a softspot for \\B...          1\n",
       "21      10841_3  This is one of the worst Sandra Bullock movie ...          1\n",
       "22       8954_7  Watched this flick on Saturday afternoon cable...          0\n",
       "23       7392_1  I went to see \\TKIA\\\" with high expectations, ...          1\n",
       "24      10288_8  All credit to writer/director Gilles Mimouni w...          1\n",
       "25       5343_4  As a writing teacher, there are two ending I n...          0\n",
       "26       4950_1  I don't know why this has gotten any decent re...          1\n",
       "27       9257_4  This film was released in the UK under the nam...          1\n",
       "28       8689_3  Uncle Fred Olen Ray once again gives us a litt...          1\n",
       "29       4480_2  OK, it's watchable if you are sick in bed or h...          1\n",
       "...         ...                                                ...        ...\n",
       "24970   6857_10  With \\Anatomy\\\" the german film producers have...          0\n",
       "24971   11091_8  This movie is one of my all-time favorites. I ...          1\n",
       "24972    4167_2  I found Code 46 very disappointing. I thought ...          1\n",
       "24973     679_4  Tamara Anderson and her family are moving once...          0\n",
       "24974   10147_1  Now I've seen it all. Just when I thought it c...          1\n",
       "24975    6875_1  In this movie everything possible was wrong an...          1\n",
       "24976    923_10  Well every scene so perfectly presented. Never...          1\n",
       "24977    6200_8  Sleeper Cell is what 24 should have been. 24 i...          0\n",
       "24978    7208_8  Not for everyone, but I really like it. Nice e...          1\n",
       "24979    5363_8  Set just before the Second World War, this is ...          0\n",
       "24980    4067_8  Contains Spoiler The movie is a good action/co...          1\n",
       "24981    1773_7  This is one of several period sea-faring yarns...          1\n",
       "24982   1498_10  Hearkening back to those \\Good Old Days\\\" of 1...          1\n",
       "24983  10497_10  I thought this to be a pretty good example of ...          1\n",
       "24984   3444_10  Seeing this film, or rather set of films, in m...          1\n",
       "24985     588_2  I didn't like this movie for many reasons - VE...          1\n",
       "24986    9678_9  I absolutely love this show!!!!!!!, Its basica...          0\n",
       "24987    1983_9  eXistenZ combines director David Cronenberg's ...          1\n",
       "24988    5012_3  this movie is allegedly a comedy.so where did ...          1\n",
       "24989   12240_2  The Comebacks is a spoof on inspirational spor...          1\n",
       "24990    5071_2  I'd love to write a little summary of this mov...          0\n",
       "24991    5078_2  Obvious tailored vehicle for Ryan Philippe. It...          1\n",
       "24992   10069_3  <br /><br />JURASSIC PARK III *___ Adventure <...          1\n",
       "24993    7407_8  If you're even mildly interested in the War be...          1\n",
       "24994    7207_1  It used to be that video distributors like Sub...          1\n",
       "24995   2155_10  Sony Pictures Classics, I'm looking at you! So...          1\n",
       "24996     59_10  I always felt that Ms. Merkerson had never got...          1\n",
       "24997    2531_1  I was so disappointed in this movie. I am very...          1\n",
       "24998    7772_8  From the opening sequence, filled with black a...          1\n",
       "24999  11465_10  This is a great horror film for people who don...          1\n",
       "\n",
       "[25000 rows x 3 columns]"
      ]
     },
     "execution_count": 38,
     "metadata": {},
     "output_type": "execute_result"
    }
   ],
   "source": [
    "test_data"
   ]
  },
  {
   "cell_type": "code",
   "execution_count": null,
   "metadata": {},
   "outputs": [],
   "source": []
  }
 ],
 "metadata": {
  "kernelspec": {
   "display_name": "Python 3",
   "language": "python",
   "name": "python3"
  },
  "language_info": {
   "codemirror_mode": {
    "name": "ipython",
    "version": 3
   },
   "file_extension": ".py",
   "mimetype": "text/x-python",
   "name": "python",
   "nbconvert_exporter": "python",
   "pygments_lexer": "ipython3",
   "version": "3.7.7"
  },
  "toc": {
   "base_numbering": 1,
   "nav_menu": {},
   "number_sections": true,
   "sideBar": true,
   "skip_h1_title": false,
   "title_cell": "Table of Contents",
   "title_sidebar": "Contents",
   "toc_cell": false,
   "toc_position": {
    "height": "calc(100% - 180px)",
    "left": "10px",
    "top": "150px",
    "width": "198.4px"
   },
   "toc_section_display": true,
   "toc_window_display": true
  }
 },
 "nbformat": 4,
 "nbformat_minor": 2
}
